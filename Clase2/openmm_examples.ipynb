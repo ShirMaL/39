{
 "cells": [
  {
   "cell_type": "markdown",
   "metadata": {
    "colab_type": "text",
    "id": "view-in-github"
   },
   "source": [
    "<a href=\"https://colab.research.google.com/github/cabb99/cdec039/blob/main/openmm.ipynb\" target=\"_parent\"><img src=\"https://colab.research.google.com/assets/colab-badge.svg\" alt=\"Open In Colab\"/></a>"
   ]
  },
  {
   "cell_type": "markdown",
   "metadata": {},
   "source": [
    "## Installation (Google Colab)"
   ]
  },
  {
   "cell_type": "code",
   "execution_count": null,
   "metadata": {
    "colab": {
     "base_uri": "https://localhost:8080/"
    },
    "id": "8-458CZ2mZs4",
    "outputId": "ba80f8a1-66de-4798-d551-ace384fa08a6"
   },
   "outputs": [
    {
     "name": "stdout",
     "output_type": "stream",
     "text": [
      "--2020-11-04 01:57:55--  https://repo.anaconda.com/miniconda/Miniconda3-py37_4.8.2-Linux-x86_64.sh\n",
      "Resolving repo.anaconda.com (repo.anaconda.com)... 104.16.131.3, 104.16.130.3, 2606:4700::6810:8203, ...\n",
      "Connecting to repo.anaconda.com (repo.anaconda.com)|104.16.131.3|:443... connected.\n",
      "HTTP request sent, awaiting response... 200 OK\n",
      "Length: 85055499 (81M) [application/x-sh]\n",
      "Saving to: ‘Miniconda3-py37_4.8.2-Linux-x86_64.sh’\n",
      "\n",
      "Miniconda3-py37_4.8 100%[===================>]  81.12M   265MB/s    in 0.3s    \n",
      "\n",
      "2020-11-04 01:57:56 (265 MB/s) - ‘Miniconda3-py37_4.8.2-Linux-x86_64.sh’ saved [85055499/85055499]\n",
      "\n"
     ]
    }
   ],
   "source": [
    "!wget https://repo.anaconda.com/miniconda/Miniconda3-py37_4.8.2-Linux-x86_64.sh"
   ]
  },
  {
   "cell_type": "markdown",
   "metadata": {
    "id": "T1_0KPAimeKx"
   },
   "source": [
    "*texto en cursiva*# Nueva sección"
   ]
  },
  {
   "cell_type": "code",
   "execution_count": null,
   "metadata": {
    "id": "sIwdpeEFrrvX"
   },
   "outputs": [],
   "source": [
    "! chmod +x Miniconda3-py37_4.8.2-Linux-x86_64.sh"
   ]
  },
  {
   "cell_type": "code",
   "execution_count": null,
   "metadata": {
    "colab": {
     "base_uri": "https://localhost:8080/"
    },
    "id": "tQkOgeWnr1Oy",
    "outputId": "6fab388c-5be3-4986-9f88-9f4abc69b70b"
   },
   "outputs": [
    {
     "name": "stdout",
     "output_type": "stream",
     "text": [
      "PREFIX=/usr/local\n",
      "Unpacking payload ...\n",
      "Collecting package metadata (current_repodata.json): - \b\b\\ \b\b| \b\bdone\n",
      "Solving environment: - \b\bdone\n",
      "\n",
      "## Package Plan ##\n",
      "\n",
      "  environment location: /usr/local\n",
      "\n",
      "  added / updated specs:\n",
      "    - _libgcc_mutex==0.1=main\n",
      "    - asn1crypto==1.3.0=py37_0\n",
      "    - ca-certificates==2020.1.1=0\n",
      "    - certifi==2019.11.28=py37_0\n",
      "    - cffi==1.14.0=py37h2e261b9_0\n",
      "    - chardet==3.0.4=py37_1003\n",
      "    - conda-package-handling==1.6.0=py37h7b6447c_0\n",
      "    - conda==4.8.2=py37_0\n",
      "    - cryptography==2.8=py37h1ba5d50_0\n",
      "    - idna==2.8=py37_0\n",
      "    - ld_impl_linux-64==2.33.1=h53a641e_7\n",
      "    - libedit==3.1.20181209=hc058e9b_0\n",
      "    - libffi==3.2.1=hd88cf55_4\n",
      "    - libgcc-ng==9.1.0=hdf63c60_0\n",
      "    - libstdcxx-ng==9.1.0=hdf63c60_0\n",
      "    - ncurses==6.2=he6710b0_0\n",
      "    - openssl==1.1.1d=h7b6447c_4\n",
      "    - pip==20.0.2=py37_1\n",
      "    - pycosat==0.6.3=py37h7b6447c_0\n",
      "    - pycparser==2.19=py37_0\n",
      "    - pyopenssl==19.1.0=py37_0\n",
      "    - pysocks==1.7.1=py37_0\n",
      "    - python==3.7.6=h0371630_2\n",
      "    - readline==7.0=h7b6447c_5\n",
      "    - requests==2.22.0=py37_1\n",
      "    - ruamel_yaml==0.15.87=py37h7b6447c_0\n",
      "    - setuptools==45.2.0=py37_0\n",
      "    - six==1.14.0=py37_0\n",
      "    - sqlite==3.31.1=h7b6447c_0\n",
      "    - tk==8.6.8=hbc83047_0\n",
      "    - tqdm==4.42.1=py_0\n",
      "    - urllib3==1.25.8=py37_0\n",
      "    - wheel==0.34.2=py37_0\n",
      "    - xz==5.2.4=h14c3975_4\n",
      "    - yaml==0.1.7=had09818_2\n",
      "    - zlib==1.2.11=h7b6447c_3\n",
      "\n",
      "\n",
      "The following NEW packages will be INSTALLED:\n",
      "\n",
      "  _libgcc_mutex      pkgs/main/linux-64::_libgcc_mutex-0.1-main\n",
      "  asn1crypto         pkgs/main/linux-64::asn1crypto-1.3.0-py37_0\n",
      "  ca-certificates    pkgs/main/linux-64::ca-certificates-2020.1.1-0\n",
      "  certifi            pkgs/main/linux-64::certifi-2019.11.28-py37_0\n",
      "  cffi               pkgs/main/linux-64::cffi-1.14.0-py37h2e261b9_0\n",
      "  chardet            pkgs/main/linux-64::chardet-3.0.4-py37_1003\n",
      "  conda              pkgs/main/linux-64::conda-4.8.2-py37_0\n",
      "  conda-package-han~ pkgs/main/linux-64::conda-package-handling-1.6.0-py37h7b6447c_0\n",
      "  cryptography       pkgs/main/linux-64::cryptography-2.8-py37h1ba5d50_0\n",
      "  idna               pkgs/main/linux-64::idna-2.8-py37_0\n",
      "  ld_impl_linux-64   pkgs/main/linux-64::ld_impl_linux-64-2.33.1-h53a641e_7\n",
      "  libedit            pkgs/main/linux-64::libedit-3.1.20181209-hc058e9b_0\n",
      "  libffi             pkgs/main/linux-64::libffi-3.2.1-hd88cf55_4\n",
      "  libgcc-ng          pkgs/main/linux-64::libgcc-ng-9.1.0-hdf63c60_0\n",
      "  libstdcxx-ng       pkgs/main/linux-64::libstdcxx-ng-9.1.0-hdf63c60_0\n",
      "  ncurses            pkgs/main/linux-64::ncurses-6.2-he6710b0_0\n",
      "  openssl            pkgs/main/linux-64::openssl-1.1.1d-h7b6447c_4\n",
      "  pip                pkgs/main/linux-64::pip-20.0.2-py37_1\n",
      "  pycosat            pkgs/main/linux-64::pycosat-0.6.3-py37h7b6447c_0\n",
      "  pycparser          pkgs/main/linux-64::pycparser-2.19-py37_0\n",
      "  pyopenssl          pkgs/main/linux-64::pyopenssl-19.1.0-py37_0\n",
      "  pysocks            pkgs/main/linux-64::pysocks-1.7.1-py37_0\n",
      "  python             pkgs/main/linux-64::python-3.7.6-h0371630_2\n",
      "  readline           pkgs/main/linux-64::readline-7.0-h7b6447c_5\n",
      "  requests           pkgs/main/linux-64::requests-2.22.0-py37_1\n",
      "  ruamel_yaml        pkgs/main/linux-64::ruamel_yaml-0.15.87-py37h7b6447c_0\n",
      "  setuptools         pkgs/main/linux-64::setuptools-45.2.0-py37_0\n",
      "  six                pkgs/main/linux-64::six-1.14.0-py37_0\n",
      "  sqlite             pkgs/main/linux-64::sqlite-3.31.1-h7b6447c_0\n",
      "  tk                 pkgs/main/linux-64::tk-8.6.8-hbc83047_0\n",
      "  tqdm               pkgs/main/noarch::tqdm-4.42.1-py_0\n",
      "  urllib3            pkgs/main/linux-64::urllib3-1.25.8-py37_0\n",
      "  wheel              pkgs/main/linux-64::wheel-0.34.2-py37_0\n",
      "  xz                 pkgs/main/linux-64::xz-5.2.4-h14c3975_4\n",
      "  yaml               pkgs/main/linux-64::yaml-0.1.7-had09818_2\n",
      "  zlib               pkgs/main/linux-64::zlib-1.2.11-h7b6447c_3\n",
      "\n",
      "\n",
      "Preparing transaction: | \b\b/ \b\b- \b\b\\ \b\bdone\n",
      "Executing transaction: / \b\b- \b\b\\ \b\b| \b\b/ \b\b- \b\b\\ \b\b| \b\b/ \b\b- \b\b\\ \b\b| \b\b/ \b\b- \b\bdone\n",
      "installation finished.\n",
      "WARNING:\n",
      "    You currently have a PYTHONPATH environment variable set. This may cause\n",
      "    unexpected behavior when running the Python interpreter in Miniconda3.\n",
      "    For best results, please verify that your PYTHONPATH only points to\n",
      "    directories of packages that are compatible with the Python interpreter\n",
      "    in Miniconda3: /usr/local\n"
     ]
    }
   ],
   "source": [
    "! bash ./Miniconda3-py37_4.8.2-Linux-x86_64.sh -b -f -p /usr/local"
   ]
  },
  {
   "cell_type": "code",
   "execution_count": 5,
   "metadata": {
    "id": "yf2TqWeQr7rD"
   },
   "outputs": [],
   "source": [
    "import sys\n",
    "sys.path.append('/usr/local/lib/python3.7/site-packages/')"
   ]
  },
  {
   "cell_type": "code",
   "execution_count": 6,
   "metadata": {
    "colab": {
     "base_uri": "https://localhost:8080/"
    },
    "id": "gDK1_A0csYwA",
    "outputId": "53d412c0-2347-4fe6-d423-ff8bd750bcfe"
   },
   "outputs": [
    {
     "name": "stdout",
     "output_type": "stream",
     "text": [
      "Collecting package metadata (current_repodata.json): - \b\b\\ \b\b| \b\b/ \b\b- \b\b\\ \b\b| \b\b/ \b\b- \b\b\\ \b\b| \b\b/ \b\b- \b\b\\ \b\b| \b\b/ \b\bdone\n",
      "Solving environment: \\ \b\b| \b\b/ \b\b- \b\b\\ \b\b| \b\b/ \b\b- \b\b\\ \b\b| \b\bdone\n",
      "\n",
      "## Package Plan ##\n",
      "\n",
      "  environment location: /usr/local\n",
      "\n",
      "  added / updated specs:\n",
      "    - rdkit\n",
      "\n",
      "\n",
      "The following packages will be downloaded:\n",
      "\n",
      "    package                    |            build\n",
      "    ---------------------------|-----------------\n",
      "    blas-1.0                   |              mkl           6 KB\n",
      "    bzip2-1.0.8                |       h7b6447c_0          78 KB\n",
      "    ca-certificates-2020.10.14 |                0         121 KB\n",
      "    cairo-1.14.12              |       h8948797_3         906 KB\n",
      "    certifi-2020.6.20          |     pyhd3eb1b0_3         155 KB\n",
      "    cffi-1.14.3                |   py37he30daa8_0         223 KB\n",
      "    conda-4.9.1                |   py37h06a4308_0         2.9 MB\n",
      "    fontconfig-2.13.0          |       h9420a91_0         227 KB\n",
      "    freetype-2.10.4            |       h5ab3b9f_0         596 KB\n",
      "    glib-2.66.1                |       h92f7085_0         2.9 MB\n",
      "    icu-58.2                   |       he6710b0_3        10.5 MB\n",
      "    intel-openmp-2020.2        |              254         786 KB\n",
      "    jpeg-9b                    |       h024ee3a_2         214 KB\n",
      "    lcms2-2.11                 |       h396b838_0         307 KB\n",
      "    libboost-1.73.0            |      hf484d3e_11        13.9 MB\n",
      "    libffi-3.3                 |       he6710b0_2          50 KB\n",
      "    libpng-1.6.37              |       hbc83047_0         278 KB\n",
      "    libtiff-4.1.0              |       h2733197_1         449 KB\n",
      "    libuuid-1.0.3              |       h1bed415_2          15 KB\n",
      "    libxcb-1.14                |       h7b6447c_0         505 KB\n",
      "    libxml2-2.9.10             |       hb55368b_3         1.2 MB\n",
      "    lz4-c-1.9.2                |       heb0550a_3         175 KB\n",
      "    mkl-2020.2                 |              256       138.3 MB\n",
      "    mkl-service-2.3.0          |   py37he904b0f_0         218 KB\n",
      "    mkl_fft-1.2.0              |   py37h23d657b_0         148 KB\n",
      "    mkl_random-1.1.1           |   py37h0573a6f_0         322 KB\n",
      "    numpy-1.19.2               |   py37h54aff64_0          22 KB\n",
      "    numpy-base-1.19.2          |   py37hfa32c7d_0         4.1 MB\n",
      "    olefile-0.46               |           py37_0          50 KB\n",
      "    openssl-1.1.1h             |       h7b6447c_0         2.5 MB\n",
      "    pandas-1.1.3               |   py37he6710b0_0         8.1 MB\n",
      "    pcre-8.44                  |       he6710b0_0         212 KB\n",
      "    pillow-8.0.1               |   py37he98fc37_0         619 KB\n",
      "    pixman-0.40.0              |       h7b6447c_0         370 KB\n",
      "    py-boost-1.73.0            |  py37h04863e7_11         202 KB\n",
      "    python-dateutil-2.8.1      |             py_0         215 KB\n",
      "    pytz-2020.1                |             py_0         184 KB\n",
      "    rdkit-2020.09.1.0          |   py37hd50e099_1        25.8 MB  rdkit\n",
      "    xz-5.2.5                   |       h7b6447c_0         341 KB\n",
      "    zstd-1.4.5                 |       h9ceee32_0         619 KB\n",
      "    ------------------------------------------------------------\n",
      "                                           Total:       218.7 MB\n",
      "\n",
      "The following NEW packages will be INSTALLED:\n",
      "\n",
      "  blas               pkgs/main/linux-64::blas-1.0-mkl\n",
      "  bzip2              pkgs/main/linux-64::bzip2-1.0.8-h7b6447c_0\n",
      "  cairo              pkgs/main/linux-64::cairo-1.14.12-h8948797_3\n",
      "  fontconfig         pkgs/main/linux-64::fontconfig-2.13.0-h9420a91_0\n",
      "  freetype           pkgs/main/linux-64::freetype-2.10.4-h5ab3b9f_0\n",
      "  glib               pkgs/main/linux-64::glib-2.66.1-h92f7085_0\n",
      "  icu                pkgs/main/linux-64::icu-58.2-he6710b0_3\n",
      "  intel-openmp       pkgs/main/linux-64::intel-openmp-2020.2-254\n",
      "  jpeg               pkgs/main/linux-64::jpeg-9b-h024ee3a_2\n",
      "  lcms2              pkgs/main/linux-64::lcms2-2.11-h396b838_0\n",
      "  libboost           pkgs/main/linux-64::libboost-1.73.0-hf484d3e_11\n",
      "  libpng             pkgs/main/linux-64::libpng-1.6.37-hbc83047_0\n",
      "  libtiff            pkgs/main/linux-64::libtiff-4.1.0-h2733197_1\n",
      "  libuuid            pkgs/main/linux-64::libuuid-1.0.3-h1bed415_2\n",
      "  libxcb             pkgs/main/linux-64::libxcb-1.14-h7b6447c_0\n",
      "  libxml2            pkgs/main/linux-64::libxml2-2.9.10-hb55368b_3\n",
      "  lz4-c              pkgs/main/linux-64::lz4-c-1.9.2-heb0550a_3\n",
      "  mkl                pkgs/main/linux-64::mkl-2020.2-256\n",
      "  mkl-service        pkgs/main/linux-64::mkl-service-2.3.0-py37he904b0f_0\n",
      "  mkl_fft            pkgs/main/linux-64::mkl_fft-1.2.0-py37h23d657b_0\n",
      "  mkl_random         pkgs/main/linux-64::mkl_random-1.1.1-py37h0573a6f_0\n",
      "  numpy              pkgs/main/linux-64::numpy-1.19.2-py37h54aff64_0\n",
      "  numpy-base         pkgs/main/linux-64::numpy-base-1.19.2-py37hfa32c7d_0\n",
      "  olefile            pkgs/main/linux-64::olefile-0.46-py37_0\n",
      "  pandas             pkgs/main/linux-64::pandas-1.1.3-py37he6710b0_0\n",
      "  pcre               pkgs/main/linux-64::pcre-8.44-he6710b0_0\n",
      "  pillow             pkgs/main/linux-64::pillow-8.0.1-py37he98fc37_0\n",
      "  pixman             pkgs/main/linux-64::pixman-0.40.0-h7b6447c_0\n",
      "  py-boost           pkgs/main/linux-64::py-boost-1.73.0-py37h04863e7_11\n",
      "  python-dateutil    pkgs/main/noarch::python-dateutil-2.8.1-py_0\n",
      "  pytz               pkgs/main/noarch::pytz-2020.1-py_0\n",
      "  rdkit              rdkit/linux-64::rdkit-2020.09.1.0-py37hd50e099_1\n",
      "  zstd               pkgs/main/linux-64::zstd-1.4.5-h9ceee32_0\n",
      "\n",
      "The following packages will be UPDATED:\n",
      "\n",
      "  ca-certificates                                2020.1.1-0 --> 2020.10.14-0\n",
      "  certifi            pkgs/main/linux-64::certifi-2019.11.2~ --> pkgs/main/noarch::certifi-2020.6.20-pyhd3eb1b0_3\n",
      "  cffi                                1.14.0-py37h2e261b9_0 --> 1.14.3-py37he30daa8_0\n",
      "  conda                                        4.8.2-py37_0 --> 4.9.1-py37h06a4308_0\n",
      "  libffi                                   3.2.1-hd88cf55_4 --> 3.3-he6710b0_2\n",
      "  openssl                                 1.1.1d-h7b6447c_4 --> 1.1.1h-h7b6447c_0\n",
      "  xz                                       5.2.4-h14c3975_4 --> 5.2.5-h7b6447c_0\n",
      "\n",
      "\n",
      "\n",
      "Downloading and Extracting Packages\n",
      "jpeg-9b              | 214 KB    | : 100% 1.0/1 [00:00<00:00, 10.90it/s]\n",
      "numpy-1.19.2         | 22 KB     | : 100% 1.0/1 [00:00<00:00, 32.89it/s]\n",
      "libuuid-1.0.3        | 15 KB     | : 100% 1.0/1 [00:00<00:00, 26.48it/s]\n",
      "pcre-8.44            | 212 KB    | : 100% 1.0/1 [00:00<00:00, 25.38it/s]\n",
      "mkl-service-2.3.0    | 218 KB    | : 100% 1.0/1 [00:00<00:00, 24.20it/s]\n",
      "libtiff-4.1.0        | 449 KB    | : 100% 1.0/1 [00:00<00:00, 19.36it/s]\n",
      "libxcb-1.14          | 505 KB    | : 100% 1.0/1 [00:00<00:00, 16.83it/s]\n",
      "pytz-2020.1          | 184 KB    | : 100% 1.0/1 [00:00<00:00, 13.67it/s]\n",
      "olefile-0.46         | 50 KB     | : 100% 1.0/1 [00:00<00:00, 33.48it/s]\n",
      "numpy-base-1.19.2    | 4.1 MB    | : 100% 1.0/1 [00:00<00:00,  4.21it/s]\n",
      "ca-certificates-2020 | 121 KB    | : 100% 1.0/1 [00:00<00:00, 30.68it/s]\n",
      "python-dateutil-2.8. | 215 KB    | : 100% 1.0/1 [00:00<00:00, 21.68it/s]\n",
      "cffi-1.14.3          | 223 KB    | : 100% 1.0/1 [00:00<00:00, 22.27it/s]\n",
      "py-boost-1.73.0      | 202 KB    | : 100% 1.0/1 [00:00<00:00, 19.90it/s]\n",
      "certifi-2020.6.20    | 155 KB    | : 100% 1.0/1 [00:00<00:00, 31.95it/s]\n",
      "libxml2-2.9.10       | 1.2 MB    | : 100% 1.0/1 [00:00<00:00, 11.01it/s]\n",
      "bzip2-1.0.8          | 78 KB     | : 100% 1.0/1 [00:00<00:00, 20.47it/s]\n",
      "blas-1.0             | 6 KB      | : 100% 1.0/1 [00:00<00:00, 17.67it/s]\n",
      "mkl_random-1.1.1     | 322 KB    | : 100% 1.0/1 [00:00<00:00, 22.90it/s]\n",
      "libboost-1.73.0      | 13.9 MB   | : 100% 1.0/1 [00:01<00:00,  1.24s/it]               \n",
      "pillow-8.0.1         | 619 KB    | : 100% 1.0/1 [00:00<00:00, 14.72it/s]\n",
      "openssl-1.1.1h       | 2.5 MB    | : 100% 1.0/1 [00:00<00:00,  8.21it/s]\n",
      "pandas-1.1.3         | 8.1 MB    | : 100% 1.0/1 [00:00<00:00,  2.54it/s]\n",
      "mkl_fft-1.2.0        | 148 KB    | : 100% 1.0/1 [00:00<00:00, 16.02it/s]\n",
      "intel-openmp-2020.2  | 786 KB    | : 100% 1.0/1 [00:00<00:00, 12.92it/s]\n",
      "fontconfig-2.13.0    | 227 KB    | : 100% 1.0/1 [00:00<00:00, 20.52it/s]\n",
      "xz-5.2.5             | 341 KB    | : 100% 1.0/1 [00:00<00:00, 16.32it/s]\n",
      "glib-2.66.1          | 2.9 MB    | : 100% 1.0/1 [00:00<00:00,  4.51it/s]\n",
      "freetype-2.10.4      | 596 KB    | : 100% 1.0/1 [00:00<00:00, 16.15it/s]\n",
      "cairo-1.14.12        | 906 KB    | : 100% 1.0/1 [00:00<00:00, 11.48it/s]\n",
      "lcms2-2.11           | 307 KB    | : 100% 1.0/1 [00:00<00:00, 20.28it/s]\n",
      "conda-4.9.1          | 2.9 MB    | : 100% 1.0/1 [00:00<00:00,  5.99it/s]\n",
      "mkl-2020.2           | 138.3 MB  | : 100% 1.0/1 [00:05<00:00,  5.15s/it]               \n",
      "lz4-c-1.9.2          | 175 KB    | : 100% 1.0/1 [00:00<00:00, 23.86it/s]\n",
      "libffi-3.3           | 50 KB     | : 100% 1.0/1 [00:00<00:00, 21.87it/s]\n",
      "zstd-1.4.5           | 619 KB    | : 100% 1.0/1 [00:00<00:00, 19.31it/s]\n",
      "icu-58.2             | 10.5 MB   | : 100% 1.0/1 [00:01<00:00,  1.35s/it]               \n",
      "rdkit-2020.09.1.0    | 25.8 MB   | : 100% 1.0/1 [00:07<00:00,  7.41s/it]\n",
      "pixman-0.40.0        | 370 KB    | : 100% 1.0/1 [00:00<00:00,  1.48it/s]\n",
      "libpng-1.6.37        | 278 KB    | : 100% 1.0/1 [00:00<00:00,  7.39it/s]\n",
      "Preparing transaction: - \b\b\\ \b\b| \b\b/ \b\b- \b\b\\ \b\b| \b\b/ \b\bdone\n",
      "Verifying transaction: \\ \b\b| \b\b/ \b\b- \b\b\\ \b\b| \b\b/ \b\b- \b\b\\ \b\b| \b\b/ \b\b- \b\b\\ \b\b| \b\b/ \b\b- \b\b\\ \b\b| \b\b/ \b\b- \b\b\\ \b\b| \b\b/ \b\b- \b\bdone\n",
      "Executing transaction: | \b\b/ \b\b- \b\b\\ \b\b| \b\b/ \b\b- \b\b\\ \b\b| \b\b/ \b\b- \b\b\\ \b\b| \b\b/ \b\b- \b\b\\ \b\b| \b\b/ \b\b- \b\b\\ \b\b| \b\b/ \b\b- \b\b\\ \b\b| \b\b/ \b\b- \b\b\\ \b\b| \b\b/ \b\b- \b\b\\ \b\b| \b\b/ \b\b- \b\b\\ \b\b| \b\b/ \b\b- \b\b\\ \b\b| \b\b/ \b\b- \b\b\\ \b\b| \b\b/ \b\b- \b\b\\ \b\b| \b\b/ \b\b- \b\b\\ \b\b| \b\b/ \b\b- \b\b\\ \b\b| \b\b/ \b\b- \b\b\\ \b\b| \b\b/ \b\b- \b\b\\ \b\b| \b\b/ \b\b- \b\b\\ \b\b| \b\b/ \b\b- \b\b\\ \b\b| \b\b/ \b\b- \b\b\\ \b\b| \b\b/ \b\b- \b\b\\ \b\b| \b\b/ \b\b- \b\b\\ \b\b| \b\b/ \b\b- \b\b\\ \b\b| \b\b/ \b\b- \b\b\\ \b\b| \b\b/ \b\b- \b\b\\ \b\b| \b\b/ \b\b- \b\b\\ \b\b| \b\b/ \b\b- \b\b\\ \b\b| \b\b/ \b\b- \b\b\\ \b\b| \b\b/ \b\b- \b\b\\ \b\b| \b\b/ \b\b- \b\b\\ \b\b| \b\b/ \b\b- \b\b\\ \b\b| \b\b/ \b\b- \b\b\\ \b\b| \b\b/ \b\b- \b\b\\ \b\b| \b\b/ \b\b- \b\b\\ \b\b| \b\b/ \b\b- \b\b\\ \b\b| \b\b/ \b\b- \b\b\\ \b\b| \b\b/ \b\b- \b\b\\ \b\b| \b\b/ \b\b- \b\b\\ \b\b| \b\b/ \b\b- \b\b\\ \b\b| \b\b/ \b\b- \b\b\\ \b\b| \b\b/ \b\b- \b\b\\ \b\b| \b\b/ \b\b- \b\b\\ \b\b| \b\b/ \b\b- \b\b\\ \b\b| \b\b/ \b\b- \b\b\\ \b\b| \b\b/ \b\b- \b\b\\ \b\b| \b\b/ \b\b- \b\b\\ \b\b| \b\b/ \b\b- \b\b\\ \b\b| \b\b/ \b\b- \b\b\\ \b\b| \b\b/ \b\b- \b\b\\ \b\b| \b\b/ \b\b- \b\b\\ \b\b| \b\b/ \b\b- \b\b\\ \b\b| \b\b/ \b\b- \b\b\\ \b\b| \b\b/ \b\b- \b\b\\ \b\b| \b\b/ \b\b- \b\b\\ \b\b| \b\b/ \b\b- \b\b\\ \b\b| \b\b/ \b\b- \b\b\\ \b\b| \b\b/ \b\b- \b\b\\ \b\b| \b\b/ \b\b- \b\b\\ \b\b| \b\b/ \b\b- \b\b\\ \b\b| \b\b/ \b\b- \b\b\\ \b\b| \b\b/ \b\b- \b\b\\ \b\b| \b\b/ \b\b- \b\b\\ \b\b| \b\b/ \b\b- \b\b\\ \b\b| \b\b/ \b\b- \b\b\\ \b\b| \b\b/ \b\b- \b\b\\ \b\b| \b\b/ \b\b- \b\b\\ \b\b| \b\b/ \b\b- \b\b\\ \b\b| \b\b/ \b\b- \b\b\\ \b\b| \b\b/ \b\b- \b\b\\ \b\b| \b\b/ \b\b- \b\b\\ \b\b| \b\b/ \b\b- \b\b\\ \b\b| \b\b/ \b\b- \b\b\\ \b\b| \b\b/ \b\b- \b\b\\ \b\b| \b\b/ \b\b- \b\b\\ \b\b| \b\b/ \b\b- \b\b\\ \b\b| \b\b/ \b\b- \b\b\\ \b\b| \b\b/ \b\b- \b\b\\ \b\b| \b\b/ \b\b- \b\b\\ \b\b| \b\b/ \b\b- \b\b\\ \b\b| \b\b/ \b\b- \b\b\\ \b\b| \b\b/ \b\b- \b\b\\ \b\b| \b\b/ \b\b- \b\b\\ \b\b| \b\b/ \b\b- \b\b\\ \b\b| \b\b/ \b\b- \b\b\\ \b\b| \b\b/ \b\b- \b\b\\ \b\b| \b\b/ \b\b- \b\b\\ \b\b| \b\b/ \b\b- \b\b\\ \b\b| \b\b/ \b\b- \b\b\\ \b\b| \b\b/ \b\b- \b\b\\ \b\b| \b\b/ \b\b- \b\b\\ \b\b| \b\b/ \b\b- \b\b\\ \b\b| \b\b/ \b\b- \b\b\\ \b\b| \b\b/ \b\b- \b\b\\ \b\b| \b\b/ \b\b- \b\b\\ \b\b| \b\b/ \b\b- \b\b\\ \b\b| \b\b/ \b\b- \b\b\\ \b\b| \b\b/ \b\b- \b\b\\ \b\b| \b\b/ \b\b- \b\b\\ \b\b| \b\b/ \b\b- \b\b\\ \b\b| \b\b/ \b\b- \b\b\\ \b\b| \b\b/ \b\b- \b\b\\ \b\b| \b\b/ \b\b- \b\b\\ \b\b| \b\b/ \b\b- \b\b\\ \b\b| \b\b/ \b\b- \b\b\\ \b\b| \b\b/ \b\b- \b\b\\ \b\b| \b\b/ \b\b- \b\b\\ \b\b| \b\b/ \b\b- \b\b\\ \b\b| \b\b/ \b\b- \b\b\\ \b\b| \b\b/ \b\b- \b\b\\ \b\b| \b\b/ \b\b- \b\b\\ \b\b| \b\b/ \b\b- \b\b\\ \b\b| \b\b/ \b\b- \b\b\\ \b\b| \b\b/ \b\b- \b\b\\ \b\b| \b\b/ \b\b- \b\b\\ \b\b| \b\b/ \b\b- \b\b\\ \b\bdone\n"
     ]
    }
   ],
   "source": [
    "! conda install -c rdkit rdkit -y\n",
    "! conda install seaborn=0.11 jupyter pandas matplotlib numpy scipy scikit-learn MDAnalysis mdtraj prody pyemma jupyter_contrib_nbextensions MDAnalysisTests mdshare nglview"
   ]
  },
  {
   "cell_type": "code",
   "execution_count": 7,
   "metadata": {
    "colab": {
     "base_uri": "https://localhost:8080/"
    },
    "id": "ShNQ9ksUsPPr",
    "outputId": "a34c98ed-6ba9-4003-db80-8710b4bdeb32"
   },
   "outputs": [
    {
     "name": "stdout",
     "output_type": "stream",
     "text": [
      "Collecting package metadata (current_repodata.json): - \b\b\\ \b\b| \b\b/ \b\b- \b\b\\ \b\b| \b\b/ \b\b- \b\b\\ \b\b| \b\b/ \b\b- \b\b\\ \b\b| \b\b/ \b\b- \b\b\\ \b\b| \b\b/ \b\b- \b\b\\ \b\b| \b\b/ \b\b- \b\b\\ \b\b| \b\b/ \b\b- \b\b\\ \b\b| \b\b/ \b\b- \b\b\\ \b\b| \b\b/ \b\b- \b\b\\ \b\b| \b\b/ \b\b- \b\b\\ \b\b| \b\b/ \b\b- \b\b\\ \b\b| \b\b/ \b\b- \b\b\\ \b\b| \b\b/ \b\b- \b\b\\ \b\b| \b\b/ \b\b- \b\b\\ \b\b| \b\b/ \b\b- \b\b\\ \b\b| \b\b/ \b\b- \b\b\\ \b\b| \b\bdone\n",
      "Solving environment: - \b\b\\ \b\b| \b\b/ \b\b- \b\b\\ \b\b| \b\b/ \b\b- \b\b\\ \b\b| \b\b/ \b\b- \b\b\\ \b\b| \b\b/ \b\b- \b\bdone\n",
      "\n",
      "## Package Plan ##\n",
      "\n",
      "  environment location: /usr/local\n",
      "\n",
      "  added / updated specs:\n",
      "    - openmm\n",
      "\n",
      "\n",
      "The following packages will be downloaded:\n",
      "\n",
      "    package                    |            build\n",
      "    ---------------------------|-----------------\n",
      "    ca-certificates-2020.6.20  |       hecda079_0         145 KB  conda-forge\n",
      "    certifi-2020.6.20          |   py37he5f6b98_2         151 KB  conda-forge\n",
      "    cython-0.29.21             |   py37hb892b2f_1         2.1 MB  conda-forge\n",
      "    fftw3f-3.3.4               |                2         1.2 MB  omnia\n",
      "    openmm-7.4.2               |py37_cuda101_rc_1        11.9 MB  omnia\n",
      "    openssl-1.1.1h             |       h516909a_0         2.1 MB  conda-forge\n",
      "    python_abi-3.7             |          1_cp37m           4 KB  conda-forge\n",
      "    ------------------------------------------------------------\n",
      "                                           Total:        17.6 MB\n",
      "\n",
      "The following NEW packages will be INSTALLED:\n",
      "\n",
      "  cython             conda-forge/linux-64::cython-0.29.21-py37hb892b2f_1\n",
      "  fftw3f             omnia/linux-64::fftw3f-3.3.4-2\n",
      "  openmm             omnia/linux-64::openmm-7.4.2-py37_cuda101_rc_1\n",
      "  python_abi         conda-forge/linux-64::python_abi-3.7-1_cp37m\n",
      "\n",
      "The following packages will be SUPERSEDED by a higher-priority channel:\n",
      "\n",
      "  ca-certificates    pkgs/main::ca-certificates-2020.10.14~ --> conda-forge::ca-certificates-2020.6.20-hecda079_0\n",
      "  certifi            pkgs/main/noarch::certifi-2020.6.20-p~ --> conda-forge/linux-64::certifi-2020.6.20-py37he5f6b98_2\n",
      "  openssl              pkgs/main::openssl-1.1.1h-h7b6447c_0 --> conda-forge::openssl-1.1.1h-h516909a_0\n",
      "\n",
      "\n",
      "Proceed ([y]/n)? y\n",
      "\n",
      "\n",
      "Downloading and Extracting Packages\n",
      "cython-0.29.21       | 2.1 MB    | : 100% 1.0/1 [00:00<00:00,  2.24it/s]\n",
      "fftw3f-3.3.4         | 1.2 MB    | : 100% 1.0/1 [00:00<00:00,  3.35it/s]\n",
      "openssl-1.1.1h       | 2.1 MB    | : 100% 1.0/1 [00:00<00:00,  3.04it/s]\n",
      "openmm-7.4.2         | 11.9 MB   | : 100% 1.0/1 [00:02<00:00,  2.40s/it]\n",
      "ca-certificates-2020 | 145 KB    | : 100% 1.0/1 [00:00<00:00, 21.90it/s]\n",
      "certifi-2020.6.20    | 151 KB    | : 100% 1.0/1 [00:00<00:00, 14.59it/s]\n",
      "python_abi-3.7       | 4 KB      | : 100% 1.0/1 [00:00<00:00, 36.53it/s]\n",
      "Preparing transaction: | \b\bdone\n",
      "Verifying transaction: - \b\b\\ \b\bdone\n",
      "Executing transaction: / \b\b- \b\bdone\n"
     ]
    }
   ],
   "source": [
    "!conda install -c omnia -c conda-forge openmm"
   ]
  },
  {
   "cell_type": "code",
   "execution_count": 9,
   "metadata": {
    "colab": {
     "base_uri": "https://localhost:8080/"
    },
    "id": "PP2bCLo3tTAe",
    "outputId": "7c88ae08-0b60-424c-fa9c-e2e918966558"
   },
   "outputs": [
    {
     "name": "stdout",
     "output_type": "stream",
     "text": [
      "\n",
      "OpenMM Version: 7.4.2\n",
      "Git Revision: dc9d188939ad630d240e89806b185061f7cd661a\n",
      "\n",
      "There are 4 Platforms available:\n",
      "\n",
      "1 Reference - Successfully computed forces\n",
      "2 CPU - Successfully computed forces\n",
      "3 CUDA - Successfully computed forces\n",
      "4 OpenCL - Successfully computed forces\n",
      "\n",
      "Median difference in forces between platforms:\n",
      "\n",
      "Reference vs. CPU: 6.30858e-06\n",
      "Reference vs. CUDA: 6.72596e-06\n",
      "CPU vs. CUDA: 7.80906e-07\n",
      "Reference vs. OpenCL: 6.75312e-06\n",
      "CPU vs. OpenCL: 8.18064e-07\n",
      "CUDA vs. OpenCL: 2.15614e-07\n",
      "\n",
      "All differences are within tolerance.\n"
     ]
    }
   ],
   "source": [
    "! python -m simtk.testInstallation"
   ]
  },
  {
   "cell_type": "markdown",
   "metadata": {
    "id": "8YuLGfycBF_d"
   },
   "source": [
    "## Openmm tutorial\n",
    "Documentacion: http://docs.openmm.org/7.0.0/userguide/\n",
    "Archivos: ~/Programs/anaconda3/envs/py36/share/openmm/examples\n"
   ]
  },
  {
   "cell_type": "code",
   "execution_count": 9,
   "metadata": {
    "id": "RmJpPIa06Jh1"
   },
   "outputs": [
    {
     "name": "stdout",
     "output_type": "stream",
     "text": [
      "#\"Step\",\"Potential Energy (kJ/mole)\",\"Temperature (K)\"\n",
      "1000,-124379.21673294029,246.3801137628312\n",
      "2000,-118662.34173294029,283.28436922383315\n",
      "3000,-116744.24798294029,297.481108006095\n",
      "4000,-115644.06048294029,291.4899122968501\n",
      "5000,-115381.15423294029,295.5420042136136\n",
      "6000,-115778.65423294029,297.8158499016274\n",
      "7000,-115571.52923294029,297.0819761687403\n",
      "8000,-115117.02923294029,294.3296623849341\n",
      "9000,-115528.43548294029,297.7731452425991\n",
      "10000,-115152.99798294029,298.1756373037206\n"
     ]
    }
   ],
   "source": [
    "from simtk.openmm.app import *\n",
    "from simtk.openmm import *\n",
    "from simtk.unit import *\n",
    "from sys import stdout\n",
    "\n",
    "pdb = PDBFile('input.pdb')\n",
    "forcefield = ForceField('amber99sb.xml', 'tip3p.xml')\n",
    "system = forcefield.createSystem(pdb.topology, nonbondedMethod=PME,\n",
    "        nonbondedCutoff=1*nanometer, constraints=HBonds)\n",
    "integrator = LangevinIntegrator(300*kelvin, 1/picosecond, 0.002*picoseconds)\n",
    "simulation = Simulation(pdb.topology, system, integrator)\n",
    "simulation.context.setPositions(pdb.positions)\n",
    "simulation.minimizeEnergy()\n",
    "simulation.reporters.append(PDBReporter('output.pdb', 1000))\n",
    "simulation.reporters.append(StateDataReporter(stdout, 1000, step=True,\n",
    "        potentialEnergy=True, temperature=True))\n",
    "simulation.step(10000)"
   ]
  },
  {
   "cell_type": "code",
   "execution_count": 29,
   "metadata": {},
   "outputs": [],
   "source": [
    "#Generacion de una configuracion aleatoria para el pdb\n",
    "import pandas as pd\n",
    "import numpy as np\n",
    "\n",
    "n=100 #Numero de particulas\n",
    "d=3 #Numero de dimensiones\n",
    "box_A=1000 #Tamaño de la caja (A)\n",
    "\n",
    "coords=np.random.random([n,d])*box_A\n",
    "atoms=pd.DataFrame(coords,columns=['x','y','z'])\n",
    "atoms['name']='A' #Nombre del atomo\n",
    "atoms['resname']='AA' #Nombre del residuo\n",
    "atoms['chainID']='A' #Nombre de la cadena\n",
    "atoms['resSeq']=range(len(atoms)) #Numero del residuo\n",
    "atoms['element']='O' #Elemento (tiene que ser un elemento verdadero)\n",
    "\n",
    "pdb_file='one_particle.pdb'\n",
    "# Write pdb file\n",
    "with open(pdb_file, 'w+') as pdb:\n",
    "    for i, atom in atoms.iterrows():\n",
    "        pdb_line = f'ATOM  {i + 1:>5} {atom[\"name\"]:^4} {atom.resname:<3} {atom.chainID}{atom.resSeq:>4}    {atom.x:>8.3f}{atom.y:>8.3f}{atom.z:>8.3f}' + ' ' * 22 + f'{atom.element:2}' + ' ' * 2\n",
    "        assert len(pdb_line) == 80, 'An item in the atom table is longer than expected'\n",
    "        pdb.write(pdb_line + '\\n')\n"
   ]
  },
  {
   "cell_type": "code",
   "execution_count": 36,
   "metadata": {},
   "outputs": [
    {
     "name": "stdout",
     "output_type": "stream",
     "text": [
      "#\"Step\",\"Potential Energy (kJ/mole)\",\"Temperature (K)\"\n",
      "10000,0.0,290.8711482029394\n",
      "20000,0.0,305.47234886692553\n",
      "30000,0.0,321.55045798078356\n",
      "40000,0.0,327.43448044468994\n",
      "50000,0.0,310.56812034096566\n",
      "60000,0.0,272.61616355284457\n",
      "70000,0.0,332.5714863242342\n",
      "80000,0.0,355.4107778401852\n",
      "90000,0.0,315.32831929573024\n",
      "100000,0.0,289.22901678574937\n"
     ]
    }
   ],
   "source": [
    "#Gas ideal\n",
    "from simtk.openmm.app import *\n",
    "from simtk.openmm import *\n",
    "from simtk.unit import *\n",
    "from sys import stdout\n",
    "\n",
    "pdb = PDBFile('one_particle.pdb')\n",
    "forcefield = ForceField('one_particle.xml')\n",
    "system = forcefield.createSystem(pdb.topology)\n",
    "\n",
    "#Tamaño de la caja (Sistema periodico)\n",
    "box_nm=box_A/100\n",
    "system.setDefaultPeriodicBoxVectors([box_nm,0,0],[0,box_nm,0],[0,0,box_nm])\n",
    "\n",
    "integrator = LangevinIntegrator(300*kelvin, 1/picosecond, 0.2*picoseconds)\n",
    "simulation = Simulation(pdb.topology, system, integrator)\n",
    "simulation.context.setPositions(pdb.positions)\n",
    "simulation.minimizeEnergy()\n",
    "simulation.reporters.append(PDBReporter('one_particle_output.pdb', 1000))\n",
    "simulation.reporters.append(StateDataReporter(stdout, 10000, step=True,\n",
    "        potentialEnergy=True, temperature=True))\n",
    "simulation.step(100000)"
   ]
  },
  {
   "cell_type": "code",
   "execution_count": 55,
   "metadata": {},
   "outputs": [
    {
     "data": {
      "text/plain": [
       "(-1.0, 10.0)"
      ]
     },
     "execution_count": 55,
     "metadata": {},
     "output_type": "execute_result"
    },
    {
     "data": {
      "image/png": "[encoded data removed]",
      "text/plain": [
       "<Figure size 432x288 with 1 Axes>"
      ]
     },
     "metadata": {
      "needs_background": "light"
     },
     "output_type": "display_data"
    }
   ],
   "source": [
    "import matplotlib.pyplot as plt\n",
    "epsilon=1\n",
    "min_e=1\n",
    "sigma=min_e/2**(1/6)\n",
    "r=np.linspace(0.001,5,1000)\n",
    "y=4*epsilon*((sigma/r)**12-(sigma/r)**6)\n",
    "plt.plot(r,y)\n",
    "plt.ylim(-1,10)"
   ]
  },
  {
   "cell_type": "code",
   "execution_count": 57,
   "metadata": {},
   "outputs": [
    {
     "name": "stdout",
     "output_type": "stream",
     "text": [
      "#\"Step\",\"Potential Energy (kJ/mole)\",\"Temperature (K)\"\n",
      "10000,0.0,300.81349740866654\n",
      "20000,0.0,288.85789488954185\n",
      "30000,0.0,328.73259410346424\n",
      "40000,0.0,273.1615726569494\n",
      "50000,0.0,297.5702932103554\n",
      "60000,0.0,317.19914395040416\n",
      "70000,0.0,284.4144934307797\n",
      "80000,0.0,307.0386040918714\n",
      "90000,0.0,297.1418276903749\n",
      "100000,0.0,261.57941830546304\n"
     ]
    }
   ],
   "source": [
    "#Gas repulsion\n",
    "from simtk.openmm.app import *\n",
    "from simtk.openmm import *\n",
    "from simtk.unit import *\n",
    "from sys import stdout\n",
    "\n",
    "pdb = PDBFile('one_particle.pdb')\n",
    "forcefield = ForceField('one_particle.xml')\n",
    "system = forcefield.createSystem(pdb.topology)\n",
    "\n",
    "#Tamaño de la caja (Sistema periodico)\n",
    "box_nm=box_A/100\n",
    "system.setDefaultPeriodicBoxVectors([box_nm,0,0],[0,box_nm,0],[0,0,box_nm])\n",
    "\n",
    "#Agregar fuerzas\n",
    "force=CustomNonbondedForce(\"\"\"energy;\n",
    "                              energy=4*epsilon*((sigma/r)^12-(sigma/r)^6); \n",
    "                              sigma=0.5*(sigma1+sigma2); \n",
    "                              epsilon=sqrt(epsilon1*epsilon2)\"\"\");\n",
    "\n",
    "force.addPerParticleParameter('sigma')\n",
    "force.addPerParticleParameter('epsilon')\n",
    "esilon=-100\n",
    "sigma=10\n",
    "for i in range(100):\n",
    "    force.addParticle([epsilon,sigma])\n",
    "\n",
    "integrator = LangevinIntegrator(300*kelvin, 1/picosecond, 0.2*picoseconds)\n",
    "simulation = Simulation(pdb.topology, system, integrator)\n",
    "simulation.context.setPositions(pdb.positions)\n",
    "simulation.minimizeEnergy()\n",
    "simulation.reporters.append(PDBReporter('one_particle_output.pdb', 1000))\n",
    "simulation.reporters.append(StateDataReporter(stdout, 10000, step=True,\n",
    "        potentialEnergy=True, temperature=True))\n",
    "simulation.step(100000)"
   ]
  },
  {
   "cell_type": "code",
   "execution_count": null,
   "metadata": {},
   "outputs": [],
   "source": []
  }
 ],
 "metadata": {
  "accelerator": "GPU",
  "colab": {
   "collapsed_sections": [],
   "include_colab_link": true,
   "name": "openmm.ipynb",
   "provenance": []
  },
  "kernelspec": {
   "display_name": "Python 3",
   "language": "python",
   "name": "python3"
  },
  "language_info": {
   "codemirror_mode": {
    "name": "ipython",
    "version": 3
   },
   "file_extension": ".py",
   "mimetype": "text/x-python",
   "name": "python",
   "nbconvert_exporter": "python",
   "pygments_lexer": "ipython3",
   "version": "3.6.10"
  }
 },
 "nbformat": 4,
 "nbformat_minor": 1
}
