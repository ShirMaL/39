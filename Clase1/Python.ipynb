{
  "nbformat": 4,
  "nbformat_minor": 0,
  "metadata": {
    "kernelspec": {
      "display_name": "Python 3",
      "language": "python",
      "name": "python3"
    },
    "language_info": {
      "codemirror_mode": {
        "name": "ipython",
        "version": 3
      },
      "file_extension": ".py",
      "mimetype": "text/x-python",
      "name": "python",
      "nbconvert_exporter": "python",
      "pygments_lexer": "ipython3",
      "version": "3.6.10"
    },
    "toc": {
      "base_numbering": 1,
      "nav_menu": {},
      "number_sections": true,
      "sideBar": true,
      "skip_h1_title": true,
      "title_cell": "Table of Contents",
      "title_sidebar": "Contents",
      "toc_cell": true,
      "toc_position": {},
      "toc_section_display": true,
      "toc_window_display": true
    },
    "colab": {
      "name": "Python.ipynb",
      "provenance": []
    }
  },
  "cells": [
    {
      "cell_type": "markdown",
      "metadata": {
        "toc": true,
        "id": "8on2H5tBUauZ"
      },
      "source": [
        "<h1>Table of Contents<span class=\"tocSkip\"></span></h1>\n",
        "<div class=\"toc\"><ul class=\"toc-item\"><li><span><a href=\"#Markdown-en-jupyter\" data-toc-modified-id=\"Markdown-en-jupyter-1\"><span class=\"toc-item-num\">1&nbsp;&nbsp;</span>Markdown en jupyter</a></span></li></ul></div>"
      ]
    },
    {
      "cell_type": "markdown",
      "metadata": {
        "id": "WVY-wCEVUauZ"
      },
      "source": [
        "Python es un lenguaje de programacion que nos permite ejecutar comandos linea por linea."
      ]
    },
    {
      "cell_type": "code",
      "metadata": {
        "id": "LkqeT1AEUauZ",
        "outputId": "3d646390-d26b-4e65-9fa5-39136f945d1f",
        "colab": {
          "base_uri": "https://localhost:8080/"
        }
      },
      "source": [
        "1+1"
      ],
      "execution_count": 1,
      "outputs": [
        {
          "output_type": "execute_result",
          "data": {
            "text/plain": [
              "2"
            ]
          },
          "metadata": {
            "tags": []
          },
          "execution_count": 1
        }
      ]
    },
    {
      "cell_type": "code",
      "metadata": {
        "id": "HoxBxYrfUaua",
        "outputId": "1bc67e9c-d7e9-43c3-bb5d-74f11c90f1c8",
        "colab": {
          "base_uri": "https://localhost:8080/"
        }
      },
      "source": [
        "print(\"Hello world\")"
      ],
      "execution_count": 2,
      "outputs": [
        {
          "output_type": "stream",
          "text": [
            "Hello world\n"
          ],
          "name": "stdout"
        }
      ]
    },
    {
      "cell_type": "code",
      "metadata": {
        "id": "mhiuvfOiUaua"
      },
      "source": [
        "#Comentarios"
      ],
      "execution_count": 3,
      "outputs": []
    },
    {
      "cell_type": "code",
      "metadata": {
        "id": "AEuB-5LSUaua"
      },
      "source": [
        "#Asignar valores\n",
        "x=1 #numero"
      ],
      "execution_count": 4,
      "outputs": []
    },
    {
      "cell_type": "code",
      "metadata": {
        "id": "TqYWJdYlUaua",
        "outputId": "71ac2ee2-4932-4b71-a3df-a8cde8fb7498",
        "colab": {
          "base_uri": "https://localhost:8080/"
        }
      },
      "source": [
        "#Listas\n",
        "x=[1,'a',2.,True]\n",
        "x"
      ],
      "execution_count": 5,
      "outputs": [
        {
          "output_type": "execute_result",
          "data": {
            "text/plain": [
              "[1, 'a', 2.0, True]"
            ]
          },
          "metadata": {
            "tags": []
          },
          "execution_count": 5
        }
      ]
    },
    {
      "cell_type": "code",
      "metadata": {
        "id": "v-xsyXSKUaua"
      },
      "source": [
        "#Diccionarios\n",
        "x={'a':1,'b':2}"
      ],
      "execution_count": 6,
      "outputs": []
    },
    {
      "cell_type": "code",
      "metadata": {
        "id": "szC8pRDaUaua",
        "outputId": "eb71a246-1d7b-4a21-bed9-09e516f4469a",
        "colab": {
          "base_uri": "https://localhost:8080/"
        }
      },
      "source": [
        "x['a']"
      ],
      "execution_count": 7,
      "outputs": [
        {
          "output_type": "execute_result",
          "data": {
            "text/plain": [
              "1"
            ]
          },
          "metadata": {
            "tags": []
          },
          "execution_count": 7
        }
      ]
    },
    {
      "cell_type": "code",
      "metadata": {
        "id": "JpJ7e2yWUaub",
        "outputId": "0db0f173-08a6-4417-d70c-8f83b06584c0",
        "colab": {
          "base_uri": "https://localhost:8080/"
        }
      },
      "source": [
        "#If\n",
        "x=5\n",
        "if x<5:\n",
        "    print('Menor a 5')\n",
        "elif x>5:\n",
        "    print('Mayor a 5')\n",
        "else:\n",
        "    print('Exactamente 5')"
      ],
      "execution_count": 8,
      "outputs": [
        {
          "output_type": "stream",
          "text": [
            "Exactamente 5\n"
          ],
          "name": "stdout"
        }
      ]
    },
    {
      "cell_type": "code",
      "metadata": {
        "id": "lo_jsROrUaub",
        "outputId": "cc52bd19-d6fc-44b3-9088-089780c184a1",
        "colab": {
          "base_uri": "https://localhost:8080/"
        }
      },
      "source": [
        "#for loops\n",
        "for i in range(10):\n",
        "    print(i)"
      ],
      "execution_count": 9,
      "outputs": [
        {
          "output_type": "stream",
          "text": [
            "0\n",
            "1\n",
            "2\n",
            "3\n",
            "4\n",
            "5\n",
            "6\n",
            "7\n",
            "8\n",
            "9\n"
          ],
          "name": "stdout"
        }
      ]
    },
    {
      "cell_type": "code",
      "metadata": {
        "id": "amLSHhkZUaub",
        "outputId": "a96beb93-eda3-46e2-a00a-94bfecbcc5c8",
        "colab": {
          "base_uri": "https://localhost:8080/"
        }
      },
      "source": [
        "#Funciones\n",
        "def sum(x,y):\n",
        "    return x+y\n",
        "sum(1,2)"
      ],
      "execution_count": 10,
      "outputs": [
        {
          "output_type": "execute_result",
          "data": {
            "text/plain": [
              "3"
            ]
          },
          "metadata": {
            "tags": []
          },
          "execution_count": 10
        }
      ]
    },
    {
      "cell_type": "code",
      "metadata": {
        "id": "ZL7e9DdHUaub",
        "outputId": "30d57493-65e0-4bb7-a7fa-19ee9e7bf940",
        "colab": {
          "base_uri": "https://localhost:8080/"
        }
      },
      "source": [
        "#Clases\n",
        "class O(object):\n",
        "    def __init__(self,x=1):\n",
        "        self.x=x\n",
        "    def print(self):\n",
        "        print(self.x)\n",
        "a=O()\n",
        "a.print()\n"
      ],
      "execution_count": 11,
      "outputs": [
        {
          "output_type": "stream",
          "text": [
            "1\n"
          ],
          "name": "stdout"
        }
      ]
    },
    {
      "cell_type": "code",
      "metadata": {
        "id": "TIcatEjDUaub",
        "outputId": "f012a9c5-d8ac-4d1e-f0ba-4c5a00a182f3",
        "colab": {
          "base_uri": "https://localhost:8080/"
        }
      },
      "source": [
        "b=O(10)\n",
        "b.print()"
      ],
      "execution_count": 12,
      "outputs": [
        {
          "output_type": "stream",
          "text": [
            "10\n"
          ],
          "name": "stdout"
        }
      ]
    },
    {
      "cell_type": "markdown",
      "metadata": {
        "id": "MBLZKS0PUaub"
      },
      "source": [
        "## Markdown en jupyter\n",
        "  Pueden tomar notas, o poner enlaces"
      ]
    },
    {
      "cell_type": "code",
      "metadata": {
        "id": "UHRl8OE0Uaub"
      },
      "source": [
        ""
      ],
      "execution_count": 12,
      "outputs": []
    }
  ]
}