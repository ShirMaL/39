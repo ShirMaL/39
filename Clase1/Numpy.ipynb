{
  "nbformat": 4,
  "nbformat_minor": 0,
  "metadata": {
    "kernelspec": {
      "display_name": "Python 3",
      "language": "python",
      "name": "python3"
    },
    "language_info": {
      "codemirror_mode": {
        "name": "ipython",
        "version": 3
      },
      "file_extension": ".py",
      "mimetype": "text/x-python",
      "name": "python",
      "nbconvert_exporter": "python",
      "pygments_lexer": "ipython3",
      "version": "3.6.10"
    },
    "toc": {
      "base_numbering": 1,
      "nav_menu": {},
      "number_sections": true,
      "sideBar": true,
      "skip_h1_title": true,
      "title_cell": "Table of Contents",
      "title_sidebar": "Contents",
      "toc_cell": true,
      "toc_position": {},
      "toc_section_display": true,
      "toc_window_display": true
    },
    "colab": {
      "name": "Numpy.ipynb",
      "provenance": []
    }
  },
  "cells": [
    {
      "cell_type": "markdown",
      "metadata": {
        "id": "e36tJnXqTHsN"
      },
      "source": [
        "# Numpy\n",
        "https://numpy.org/devdocs/user/quickstart.html"
      ]
    },
    {
      "cell_type": "markdown",
      "metadata": {
        "toc": true,
        "id": "fKf1RBPLTHsN"
      },
      "source": [
        "<h1>Table of Contents<span class=\"tocSkip\"></span></h1>\n",
        "<div class=\"toc\"><ul class=\"toc-item\"><li><span><a href=\"#Importar-Numpy\" data-toc-modified-id=\"Importar-Numpy-1\"><span class=\"toc-item-num\">1&nbsp;&nbsp;</span>Importar Numpy</a></span></li><li><span><a href=\"#Crear-matrices\" data-toc-modified-id=\"Crear-matrices-2\"><span class=\"toc-item-num\">2&nbsp;&nbsp;</span>Crear matrices</a></span></li><li><span><a href=\"#Operaciones\" data-toc-modified-id=\"Operaciones-3\"><span class=\"toc-item-num\">3&nbsp;&nbsp;</span>Operaciones</a></span></li><li><span><a href=\"#Selecciones\" data-toc-modified-id=\"Selecciones-4\"><span class=\"toc-item-num\">4&nbsp;&nbsp;</span>Selecciones</a></span></li><li><span><a href=\"#Guardar-matrices\" data-toc-modified-id=\"Guardar-matrices-5\"><span class=\"toc-item-num\">5&nbsp;&nbsp;</span>Guardar matrices</a></span></li></ul></div>"
      ]
    },
    {
      "cell_type": "markdown",
      "metadata": {
        "id": "uKDBQeE_THsN"
      },
      "source": [
        "### Importar Numpy"
      ]
    },
    {
      "cell_type": "code",
      "metadata": {
        "id": "cQ6ZArLpTHsN"
      },
      "source": [
        "#Importar numpy\n",
        "import numpy as np"
      ],
      "execution_count": 1,
      "outputs": []
    },
    {
      "cell_type": "markdown",
      "metadata": {
        "id": "n2iBqZJQTHsO"
      },
      "source": [
        "### Crear matrices"
      ]
    },
    {
      "cell_type": "code",
      "metadata": {
        "id": "uVwyCy2bTHsO"
      },
      "source": [
        "#Crear una matriz (array)\n",
        "list_1 = [1,2,3,4]\n",
        "array1 = np.array(list_1)"
      ],
      "execution_count": 2,
      "outputs": []
    },
    {
      "cell_type": "code",
      "metadata": {
        "id": "IVKqBrxATHsO",
        "outputId": "9acc5260-99ee-48a2-87ba-c77c16cbd111",
        "colab": {
          "base_uri": "https://localhost:8080/"
        }
      },
      "source": [
        "#Mostrar la matriz\n",
        "array1"
      ],
      "execution_count": 3,
      "outputs": [
        {
          "output_type": "execute_result",
          "data": {
            "text/plain": [
              "array([1, 2, 3, 4])"
            ]
          },
          "metadata": {
            "tags": []
          },
          "execution_count": 3
        }
      ]
    },
    {
      "cell_type": "code",
      "metadata": {
        "id": "gbbGD_EHTHsO",
        "outputId": "ba5db021-1991-44b4-8a15-cbbfb1270e91",
        "colab": {
          "base_uri": "https://localhost:8080/"
        }
      },
      "source": [
        "#Crear una matriz con 2 dimensiones\n",
        "list_2 = [[1,2,3,4],[5,6,7,8]]\n",
        "array2 = np.array(list_2)\n",
        "#Mostrar la matriz\n",
        "array2"
      ],
      "execution_count": 4,
      "outputs": [
        {
          "output_type": "execute_result",
          "data": {
            "text/plain": [
              "array([[1, 2, 3, 4],\n",
              "       [5, 6, 7, 8]])"
            ]
          },
          "metadata": {
            "tags": []
          },
          "execution_count": 4
        }
      ]
    },
    {
      "cell_type": "code",
      "metadata": {
        "id": "pwYgNbslTHsP",
        "outputId": "675f67ba-0051-4a2a-bc30-c3ed81d261a4",
        "colab": {
          "base_uri": "https://localhost:8080/"
        }
      },
      "source": [
        "#Crear una matriz con 3 dimensiones\n",
        "list_3 = [[[1,2,3,4],[5,6,7,8]],[[1,2,3,4],[5,6,7,8]]]\n",
        "array3 = np.array(list_3)\n",
        "#Mostrar la matriz\n",
        "array3"
      ],
      "execution_count": 5,
      "outputs": [
        {
          "output_type": "execute_result",
          "data": {
            "text/plain": [
              "array([[[1, 2, 3, 4],\n",
              "        [5, 6, 7, 8]],\n",
              "\n",
              "       [[1, 2, 3, 4],\n",
              "        [5, 6, 7, 8]]])"
            ]
          },
          "metadata": {
            "tags": []
          },
          "execution_count": 5
        }
      ]
    },
    {
      "cell_type": "code",
      "metadata": {
        "scrolled": true,
        "id": "Jr9Idqo3THsP",
        "outputId": "6bcacb3f-b946-4dd2-d8cf-739c84b3b8d0",
        "colab": {
          "base_uri": "https://localhost:8080/"
        }
      },
      "source": [
        "#Calcular las dimensiones de las matrices\n",
        "print(array1.shape)\n",
        "print(array2.shape)\n",
        "print(array3.shape)"
      ],
      "execution_count": 6,
      "outputs": [
        {
          "output_type": "stream",
          "text": [
            "(4,)\n",
            "(2, 4)\n",
            "(2, 2, 4)\n"
          ],
          "name": "stdout"
        }
      ]
    },
    {
      "cell_type": "code",
      "metadata": {
        "id": "UxGz1AXNTHsP",
        "outputId": "ba2a6d30-61c4-4fbc-ec06-5642f0c542ec",
        "colab": {
          "base_uri": "https://localhost:8080/"
        }
      },
      "source": [
        "#Mostrar el tipo de datos de la matriz\n",
        "array2.dtype"
      ],
      "execution_count": 7,
      "outputs": [
        {
          "output_type": "execute_result",
          "data": {
            "text/plain": [
              "dtype('int64')"
            ]
          },
          "metadata": {
            "tags": []
          },
          "execution_count": 7
        }
      ]
    },
    {
      "cell_type": "code",
      "metadata": {
        "id": "OZOLkrpkTHsP",
        "outputId": "7d22bab3-3c2e-40ad-af3e-1b9f960824c0",
        "colab": {
          "base_uri": "https://localhost:8080/"
        }
      },
      "source": [
        "#Matrices de otros tipos\n",
        "array4=np.array(['Hola','Mundo'])\n",
        "array5=np.array([1.,2.])\n",
        "print(array4.dtype)\n",
        "print(array5.dtype)"
      ],
      "execution_count": 8,
      "outputs": [
        {
          "output_type": "stream",
          "text": [
            "<U5\n",
            "float64\n"
          ],
          "name": "stdout"
        }
      ]
    },
    {
      "cell_type": "markdown",
      "metadata": {
        "id": "Eek92QTdTHsP"
      },
      "source": [
        "Otros tipos de datos\n",
        "https://www.i2tutorials.com/numpy-tutorial/numpy-data-types/"
      ]
    },
    {
      "cell_type": "code",
      "metadata": {
        "id": "msrJAAQrTHsP",
        "outputId": "70650aa0-4a53-48d8-8f3c-c23cff352917",
        "colab": {
          "base_uri": "https://localhost:8080/"
        }
      },
      "source": [
        "#Convertir de un tipo a otro\n",
        "array6=array3.astype(float)\n",
        "print(array6.dtype)\n",
        "array6=array3.astype(np.float32)\n",
        "print(array6.dtype)"
      ],
      "execution_count": 9,
      "outputs": [
        {
          "output_type": "stream",
          "text": [
            "float64\n",
            "float32\n"
          ],
          "name": "stdout"
        }
      ]
    },
    {
      "cell_type": "code",
      "metadata": {
        "id": "RIr4CxY1THsP",
        "outputId": "57c18f08-b40c-46e0-f28c-4c8cc98f0e75",
        "colab": {
          "base_uri": "https://localhost:8080/"
        }
      },
      "source": [
        "#Crear una matriz de ceros\n",
        "np.zeros([5,5])"
      ],
      "execution_count": 10,
      "outputs": [
        {
          "output_type": "execute_result",
          "data": {
            "text/plain": [
              "array([[0., 0., 0., 0., 0.],\n",
              "       [0., 0., 0., 0., 0.],\n",
              "       [0., 0., 0., 0., 0.],\n",
              "       [0., 0., 0., 0., 0.],\n",
              "       [0., 0., 0., 0., 0.]])"
            ]
          },
          "metadata": {
            "tags": []
          },
          "execution_count": 10
        }
      ]
    },
    {
      "cell_type": "code",
      "metadata": {
        "id": "E1azQGKTTHsP",
        "outputId": "acf635e4-84fd-477a-89f5-505bc62483e9",
        "colab": {
          "base_uri": "https://localhost:8080/"
        }
      },
      "source": [
        "#Crear una matriz de unos\n",
        "np.ones([5,5])\n"
      ],
      "execution_count": 11,
      "outputs": [
        {
          "output_type": "execute_result",
          "data": {
            "text/plain": [
              "array([[1., 1., 1., 1., 1.],\n",
              "       [1., 1., 1., 1., 1.],\n",
              "       [1., 1., 1., 1., 1.],\n",
              "       [1., 1., 1., 1., 1.],\n",
              "       [1., 1., 1., 1., 1.]])"
            ]
          },
          "metadata": {
            "tags": []
          },
          "execution_count": 11
        }
      ]
    },
    {
      "cell_type": "code",
      "metadata": {
        "id": "QL7YfWnTTHsP",
        "outputId": "2d218b4b-3737-4a06-8cad-03ce8c651dc7",
        "colab": {
          "base_uri": "https://localhost:8080/"
        }
      },
      "source": [
        "#Crear una matriz de identidad\n",
        "np.eye(5)"
      ],
      "execution_count": 12,
      "outputs": [
        {
          "output_type": "execute_result",
          "data": {
            "text/plain": [
              "array([[1., 0., 0., 0., 0.],\n",
              "       [0., 1., 0., 0., 0.],\n",
              "       [0., 0., 1., 0., 0.],\n",
              "       [0., 0., 0., 1., 0.],\n",
              "       [0., 0., 0., 0., 1.]])"
            ]
          },
          "metadata": {
            "tags": []
          },
          "execution_count": 12
        }
      ]
    },
    {
      "cell_type": "code",
      "metadata": {
        "id": "vQgFS01fTHsQ",
        "outputId": "45b2af7c-72cf-4d62-c93f-2bdbc345a26a",
        "colab": {
          "base_uri": "https://localhost:8080/"
        }
      },
      "source": [
        "#Crear una serie de numeros\n",
        "np.arange(5)"
      ],
      "execution_count": 13,
      "outputs": [
        {
          "output_type": "execute_result",
          "data": {
            "text/plain": [
              "array([0, 1, 2, 3, 4])"
            ]
          },
          "metadata": {
            "tags": []
          },
          "execution_count": 13
        }
      ]
    },
    {
      "cell_type": "code",
      "metadata": {
        "id": "SxfN3au4THsQ",
        "outputId": "e6144535-3af9-44bc-9e2f-995bee2ef7e3",
        "colab": {
          "base_uri": "https://localhost:8080/"
        }
      },
      "source": [
        "#Crear un espacio de numeros\n",
        "np.linspace(0,1,11)"
      ],
      "execution_count": 14,
      "outputs": [
        {
          "output_type": "execute_result",
          "data": {
            "text/plain": [
              "array([0. , 0.1, 0.2, 0.3, 0.4, 0.5, 0.6, 0.7, 0.8, 0.9, 1. ])"
            ]
          },
          "metadata": {
            "tags": []
          },
          "execution_count": 14
        }
      ]
    },
    {
      "cell_type": "code",
      "metadata": {
        "id": "PLteXHPbTHsQ",
        "outputId": "b8ad0578-c27f-4b51-a08d-ceb0cc4be186",
        "colab": {
          "base_uri": "https://localhost:8080/"
        }
      },
      "source": [
        "arr = np.arange(125)\n",
        "print(arr.shape)\n",
        "arr"
      ],
      "execution_count": 15,
      "outputs": [
        {
          "output_type": "stream",
          "text": [
            "(125,)\n"
          ],
          "name": "stdout"
        },
        {
          "output_type": "execute_result",
          "data": {
            "text/plain": [
              "array([  0,   1,   2,   3,   4,   5,   6,   7,   8,   9,  10,  11,  12,\n",
              "        13,  14,  15,  16,  17,  18,  19,  20,  21,  22,  23,  24,  25,\n",
              "        26,  27,  28,  29,  30,  31,  32,  33,  34,  35,  36,  37,  38,\n",
              "        39,  40,  41,  42,  43,  44,  45,  46,  47,  48,  49,  50,  51,\n",
              "        52,  53,  54,  55,  56,  57,  58,  59,  60,  61,  62,  63,  64,\n",
              "        65,  66,  67,  68,  69,  70,  71,  72,  73,  74,  75,  76,  77,\n",
              "        78,  79,  80,  81,  82,  83,  84,  85,  86,  87,  88,  89,  90,\n",
              "        91,  92,  93,  94,  95,  96,  97,  98,  99, 100, 101, 102, 103,\n",
              "       104, 105, 106, 107, 108, 109, 110, 111, 112, 113, 114, 115, 116,\n",
              "       117, 118, 119, 120, 121, 122, 123, 124])"
            ]
          },
          "metadata": {
            "tags": []
          },
          "execution_count": 15
        }
      ]
    },
    {
      "cell_type": "code",
      "metadata": {
        "id": "FnFOA3vBTHsQ",
        "outputId": "000023cb-cc43-43de-9908-99f37a256162",
        "colab": {
          "base_uri": "https://localhost:8080/"
        }
      },
      "source": [
        "#Cambiar la forma de un array\n",
        "arr2=arr.reshape((5,5,5))\n",
        "print(arr2.shape)\n",
        "arr2"
      ],
      "execution_count": 16,
      "outputs": [
        {
          "output_type": "stream",
          "text": [
            "(5, 5, 5)\n"
          ],
          "name": "stdout"
        },
        {
          "output_type": "execute_result",
          "data": {
            "text/plain": [
              "array([[[  0,   1,   2,   3,   4],\n",
              "        [  5,   6,   7,   8,   9],\n",
              "        [ 10,  11,  12,  13,  14],\n",
              "        [ 15,  16,  17,  18,  19],\n",
              "        [ 20,  21,  22,  23,  24]],\n",
              "\n",
              "       [[ 25,  26,  27,  28,  29],\n",
              "        [ 30,  31,  32,  33,  34],\n",
              "        [ 35,  36,  37,  38,  39],\n",
              "        [ 40,  41,  42,  43,  44],\n",
              "        [ 45,  46,  47,  48,  49]],\n",
              "\n",
              "       [[ 50,  51,  52,  53,  54],\n",
              "        [ 55,  56,  57,  58,  59],\n",
              "        [ 60,  61,  62,  63,  64],\n",
              "        [ 65,  66,  67,  68,  69],\n",
              "        [ 70,  71,  72,  73,  74]],\n",
              "\n",
              "       [[ 75,  76,  77,  78,  79],\n",
              "        [ 80,  81,  82,  83,  84],\n",
              "        [ 85,  86,  87,  88,  89],\n",
              "        [ 90,  91,  92,  93,  94],\n",
              "        [ 95,  96,  97,  98,  99]],\n",
              "\n",
              "       [[100, 101, 102, 103, 104],\n",
              "        [105, 106, 107, 108, 109],\n",
              "        [110, 111, 112, 113, 114],\n",
              "        [115, 116, 117, 118, 119],\n",
              "        [120, 121, 122, 123, 124]]])"
            ]
          },
          "metadata": {
            "tags": []
          },
          "execution_count": 16
        }
      ]
    },
    {
      "cell_type": "markdown",
      "metadata": {
        "id": "4fyD7_B2THsQ"
      },
      "source": [
        "### Operaciones"
      ]
    },
    {
      "cell_type": "code",
      "metadata": {
        "id": "1xIAbd_CTHsQ",
        "outputId": "f840dc67-3f94-4052-957a-939bfc9ba20b",
        "colab": {
          "base_uri": "https://localhost:8080/"
        }
      },
      "source": [
        "#Suma\n",
        "array1=np.ones([5,5])\n",
        "array1"
      ],
      "execution_count": 17,
      "outputs": [
        {
          "output_type": "execute_result",
          "data": {
            "text/plain": [
              "array([[1., 1., 1., 1., 1.],\n",
              "       [1., 1., 1., 1., 1.],\n",
              "       [1., 1., 1., 1., 1.],\n",
              "       [1., 1., 1., 1., 1.],\n",
              "       [1., 1., 1., 1., 1.]])"
            ]
          },
          "metadata": {
            "tags": []
          },
          "execution_count": 17
        }
      ]
    },
    {
      "cell_type": "code",
      "metadata": {
        "id": "RYhHcU1iTHsQ",
        "outputId": "c897c419-41a8-4d69-b65a-7845cb4d98dc",
        "colab": {
          "base_uri": "https://localhost:8080/"
        }
      },
      "source": [
        "array1+1"
      ],
      "execution_count": 18,
      "outputs": [
        {
          "output_type": "execute_result",
          "data": {
            "text/plain": [
              "array([[2., 2., 2., 2., 2.],\n",
              "       [2., 2., 2., 2., 2.],\n",
              "       [2., 2., 2., 2., 2.],\n",
              "       [2., 2., 2., 2., 2.],\n",
              "       [2., 2., 2., 2., 2.]])"
            ]
          },
          "metadata": {
            "tags": []
          },
          "execution_count": 18
        }
      ]
    },
    {
      "cell_type": "code",
      "metadata": {
        "id": "0nh3W0IyTHsQ",
        "outputId": "680941b1-9972-4d3d-c4c2-402f856ba41a",
        "colab": {
          "base_uri": "https://localhost:8080/"
        }
      },
      "source": [
        "array1+5"
      ],
      "execution_count": 19,
      "outputs": [
        {
          "output_type": "execute_result",
          "data": {
            "text/plain": [
              "array([[6., 6., 6., 6., 6.],\n",
              "       [6., 6., 6., 6., 6.],\n",
              "       [6., 6., 6., 6., 6.],\n",
              "       [6., 6., 6., 6., 6.],\n",
              "       [6., 6., 6., 6., 6.]])"
            ]
          },
          "metadata": {
            "tags": []
          },
          "execution_count": 19
        }
      ]
    },
    {
      "cell_type": "code",
      "metadata": {
        "id": "eV4RuLeFTHsQ"
      },
      "source": [
        "array2=np.array([1,2,3,4,5])"
      ],
      "execution_count": 20,
      "outputs": []
    },
    {
      "cell_type": "code",
      "metadata": {
        "id": "OVm6keKqTHsQ",
        "outputId": "7293eba8-5f94-4cb2-e9a0-de81506f7559",
        "colab": {
          "base_uri": "https://localhost:8080/"
        }
      },
      "source": [
        "array1+array2"
      ],
      "execution_count": 21,
      "outputs": [
        {
          "output_type": "execute_result",
          "data": {
            "text/plain": [
              "array([[2., 3., 4., 5., 6.],\n",
              "       [2., 3., 4., 5., 6.],\n",
              "       [2., 3., 4., 5., 6.],\n",
              "       [2., 3., 4., 5., 6.],\n",
              "       [2., 3., 4., 5., 6.]])"
            ]
          },
          "metadata": {
            "tags": []
          },
          "execution_count": 21
        }
      ]
    },
    {
      "cell_type": "code",
      "metadata": {
        "id": "fmL7FLrATHsQ",
        "outputId": "4ffbad2d-67a2-4ac3-91da-99d817196f66",
        "colab": {
          "base_uri": "https://localhost:8080/"
        }
      },
      "source": [
        "array3=np.eye(5)\n",
        "array3"
      ],
      "execution_count": 22,
      "outputs": [
        {
          "output_type": "execute_result",
          "data": {
            "text/plain": [
              "array([[1., 0., 0., 0., 0.],\n",
              "       [0., 1., 0., 0., 0.],\n",
              "       [0., 0., 1., 0., 0.],\n",
              "       [0., 0., 0., 1., 0.],\n",
              "       [0., 0., 0., 0., 1.]])"
            ]
          },
          "metadata": {
            "tags": []
          },
          "execution_count": 22
        }
      ]
    },
    {
      "cell_type": "code",
      "metadata": {
        "id": "ENKTl5dETHsQ",
        "outputId": "c4294093-bea5-430a-e1ce-4e47aa4164d7",
        "colab": {
          "base_uri": "https://localhost:8080/"
        }
      },
      "source": [
        "array1+array3"
      ],
      "execution_count": 23,
      "outputs": [
        {
          "output_type": "execute_result",
          "data": {
            "text/plain": [
              "array([[2., 1., 1., 1., 1.],\n",
              "       [1., 2., 1., 1., 1.],\n",
              "       [1., 1., 2., 1., 1.],\n",
              "       [1., 1., 1., 2., 1.],\n",
              "       [1., 1., 1., 1., 2.]])"
            ]
          },
          "metadata": {
            "tags": []
          },
          "execution_count": 23
        }
      ]
    },
    {
      "cell_type": "code",
      "metadata": {
        "id": "uB-F_f3MTHsQ",
        "outputId": "31ba4692-c70a-48d5-c647-14f328e1a417",
        "colab": {
          "base_uri": "https://localhost:8080/"
        }
      },
      "source": [
        "#Resta\n",
        "array1-array3"
      ],
      "execution_count": 24,
      "outputs": [
        {
          "output_type": "execute_result",
          "data": {
            "text/plain": [
              "array([[0., 1., 1., 1., 1.],\n",
              "       [1., 0., 1., 1., 1.],\n",
              "       [1., 1., 0., 1., 1.],\n",
              "       [1., 1., 1., 0., 1.],\n",
              "       [1., 1., 1., 1., 0.]])"
            ]
          },
          "metadata": {
            "tags": []
          },
          "execution_count": 24
        }
      ]
    },
    {
      "cell_type": "code",
      "metadata": {
        "id": "gUjXer2xTHsQ"
      },
      "source": [
        "#Multiplicacion"
      ],
      "execution_count": 25,
      "outputs": []
    },
    {
      "cell_type": "code",
      "metadata": {
        "id": "6iIINxA_THsQ",
        "outputId": "8ad66847-cdb5-4aec-ea93-099e933b96f0",
        "colab": {
          "base_uri": "https://localhost:8080/"
        }
      },
      "source": [
        "array1*2"
      ],
      "execution_count": 26,
      "outputs": [
        {
          "output_type": "execute_result",
          "data": {
            "text/plain": [
              "array([[2., 2., 2., 2., 2.],\n",
              "       [2., 2., 2., 2., 2.],\n",
              "       [2., 2., 2., 2., 2.],\n",
              "       [2., 2., 2., 2., 2.],\n",
              "       [2., 2., 2., 2., 2.]])"
            ]
          },
          "metadata": {
            "tags": []
          },
          "execution_count": 26
        }
      ]
    },
    {
      "cell_type": "code",
      "metadata": {
        "id": "J1VVceEoTHsR",
        "outputId": "ade6194a-e669-4f81-e07b-78f5b2267dde",
        "colab": {
          "base_uri": "https://localhost:8080/"
        }
      },
      "source": [
        "array1*np.array([1,2,3,4,5])"
      ],
      "execution_count": 27,
      "outputs": [
        {
          "output_type": "execute_result",
          "data": {
            "text/plain": [
              "array([[1., 2., 3., 4., 5.],\n",
              "       [1., 2., 3., 4., 5.],\n",
              "       [1., 2., 3., 4., 5.],\n",
              "       [1., 2., 3., 4., 5.],\n",
              "       [1., 2., 3., 4., 5.]])"
            ]
          },
          "metadata": {
            "tags": []
          },
          "execution_count": 27
        }
      ]
    },
    {
      "cell_type": "code",
      "metadata": {
        "id": "WrKjEdzYTHsR",
        "outputId": "6fa363f1-057c-4e52-d235-44e4767b61cd",
        "colab": {
          "base_uri": "https://localhost:8080/"
        }
      },
      "source": [
        "array1*np.eye(5)"
      ],
      "execution_count": 28,
      "outputs": [
        {
          "output_type": "execute_result",
          "data": {
            "text/plain": [
              "array([[1., 0., 0., 0., 0.],\n",
              "       [0., 1., 0., 0., 0.],\n",
              "       [0., 0., 1., 0., 0.],\n",
              "       [0., 0., 0., 1., 0.],\n",
              "       [0., 0., 0., 0., 1.]])"
            ]
          },
          "metadata": {
            "tags": []
          },
          "execution_count": 28
        }
      ]
    },
    {
      "cell_type": "code",
      "metadata": {
        "id": "XggDTAUvTHsR",
        "outputId": "7c57f93a-8685-40ca-a41e-f43f7b02d53f",
        "colab": {
          "base_uri": "https://localhost:8080/"
        }
      },
      "source": [
        "#Division\n",
        "array1/2"
      ],
      "execution_count": 29,
      "outputs": [
        {
          "output_type": "execute_result",
          "data": {
            "text/plain": [
              "array([[0.5, 0.5, 0.5, 0.5, 0.5],\n",
              "       [0.5, 0.5, 0.5, 0.5, 0.5],\n",
              "       [0.5, 0.5, 0.5, 0.5, 0.5],\n",
              "       [0.5, 0.5, 0.5, 0.5, 0.5],\n",
              "       [0.5, 0.5, 0.5, 0.5, 0.5]])"
            ]
          },
          "metadata": {
            "tags": []
          },
          "execution_count": 29
        }
      ]
    },
    {
      "cell_type": "code",
      "metadata": {
        "id": "4jjpMoIHTHsR",
        "outputId": "f8f7a24e-f178-45bf-9ef7-95ae46ae49e8",
        "colab": {
          "base_uri": "https://localhost:8080/"
        }
      },
      "source": [
        "array1/np.array([1,2,3,4,5])"
      ],
      "execution_count": 30,
      "outputs": [
        {
          "output_type": "execute_result",
          "data": {
            "text/plain": [
              "array([[1.        , 0.5       , 0.33333333, 0.25      , 0.2       ],\n",
              "       [1.        , 0.5       , 0.33333333, 0.25      , 0.2       ],\n",
              "       [1.        , 0.5       , 0.33333333, 0.25      , 0.2       ],\n",
              "       [1.        , 0.5       , 0.33333333, 0.25      , 0.2       ],\n",
              "       [1.        , 0.5       , 0.33333333, 0.25      , 0.2       ]])"
            ]
          },
          "metadata": {
            "tags": []
          },
          "execution_count": 30
        }
      ]
    },
    {
      "cell_type": "code",
      "metadata": {
        "id": "sw_fzG-KTHsR",
        "outputId": "2ee253f5-aaa3-4aa6-8382-375af25df857",
        "colab": {
          "base_uri": "https://localhost:8080/"
        }
      },
      "source": [
        "array1/np.eye(5)"
      ],
      "execution_count": 31,
      "outputs": [
        {
          "output_type": "stream",
          "text": [
            "/usr/local/lib/python3.6/dist-packages/ipykernel_launcher.py:1: RuntimeWarning: divide by zero encountered in true_divide\n",
            "  \"\"\"Entry point for launching an IPython kernel.\n"
          ],
          "name": "stderr"
        },
        {
          "output_type": "execute_result",
          "data": {
            "text/plain": [
              "array([[ 1., inf, inf, inf, inf],\n",
              "       [inf,  1., inf, inf, inf],\n",
              "       [inf, inf,  1., inf, inf],\n",
              "       [inf, inf, inf,  1., inf],\n",
              "       [inf, inf, inf, inf,  1.]])"
            ]
          },
          "metadata": {
            "tags": []
          },
          "execution_count": 31
        }
      ]
    },
    {
      "cell_type": "code",
      "metadata": {
        "id": "5gkEUthQTHsR",
        "outputId": "f6df1499-9646-48d1-eb02-825858169d27",
        "colab": {
          "base_uri": "https://localhost:8080/"
        }
      },
      "source": [
        "#Exponenciacion\n",
        "array1=np.array([[1,2,3],[4,5,6]])\n",
        "array1**2"
      ],
      "execution_count": 32,
      "outputs": [
        {
          "output_type": "execute_result",
          "data": {
            "text/plain": [
              "array([[ 1,  4,  9],\n",
              "       [16, 25, 36]])"
            ]
          },
          "metadata": {
            "tags": []
          },
          "execution_count": 32
        }
      ]
    },
    {
      "cell_type": "code",
      "metadata": {
        "id": "Yg1xFeNdTHsR",
        "outputId": "7e16aa12-eb51-43ad-b8a0-41ae177d1fef",
        "colab": {
          "base_uri": "https://localhost:8080/"
        }
      },
      "source": [
        "#e^x\n",
        "np.exp(array1)"
      ],
      "execution_count": 33,
      "outputs": [
        {
          "output_type": "execute_result",
          "data": {
            "text/plain": [
              "array([[  2.71828183,   7.3890561 ,  20.08553692],\n",
              "       [ 54.59815003, 148.4131591 , 403.42879349]])"
            ]
          },
          "metadata": {
            "tags": []
          },
          "execution_count": 33
        }
      ]
    },
    {
      "cell_type": "code",
      "metadata": {
        "id": "CtUcirfKTHsR",
        "outputId": "660dd663-2c6f-414a-f4a3-e3ad7e0bf874",
        "colab": {
          "base_uri": "https://localhost:8080/"
        }
      },
      "source": [
        "#Raiz quadrada\n",
        "np.sqrt(array1)"
      ],
      "execution_count": 34,
      "outputs": [
        {
          "output_type": "execute_result",
          "data": {
            "text/plain": [
              "array([[1.        , 1.41421356, 1.73205081],\n",
              "       [2.        , 2.23606798, 2.44948974]])"
            ]
          },
          "metadata": {
            "tags": []
          },
          "execution_count": 34
        }
      ]
    },
    {
      "cell_type": "code",
      "metadata": {
        "id": "lh1es1qmTHsR",
        "outputId": "3508c0a2-d6bb-4930-f4e6-93f3300d629c",
        "colab": {
          "base_uri": "https://localhost:8080/"
        }
      },
      "source": [
        "#Maximo y minimo\n",
        "np.max(array1),np.min(array1)"
      ],
      "execution_count": 35,
      "outputs": [
        {
          "output_type": "execute_result",
          "data": {
            "text/plain": [
              "(6, 1)"
            ]
          },
          "metadata": {
            "tags": []
          },
          "execution_count": 35
        }
      ]
    },
    {
      "cell_type": "code",
      "metadata": {
        "id": "Xyg7hiekTHsR",
        "outputId": "65aa360d-6de4-4fb4-dd55-bbff231e04c7",
        "colab": {
          "base_uri": "https://localhost:8080/"
        }
      },
      "source": [
        "#Promedio\n",
        "np.mean(array1)"
      ],
      "execution_count": 36,
      "outputs": [
        {
          "output_type": "execute_result",
          "data": {
            "text/plain": [
              "3.5"
            ]
          },
          "metadata": {
            "tags": []
          },
          "execution_count": 36
        }
      ]
    },
    {
      "cell_type": "markdown",
      "metadata": {
        "id": "xim1QAq_THsR"
      },
      "source": [
        "Otras operaciones\n",
        "https://numpy.org/doc/stable/reference/ufuncs.html"
      ]
    },
    {
      "cell_type": "code",
      "metadata": {
        "id": "iBockykmTHsR",
        "outputId": "988176fe-4341-4d08-9fa5-0ee501b72f8e",
        "colab": {
          "base_uri": "https://localhost:8080/"
        }
      },
      "source": [
        "#Transpuesta\n",
        "array1=np.array([[1,2],[3,4]])\n",
        "array1"
      ],
      "execution_count": 37,
      "outputs": [
        {
          "output_type": "execute_result",
          "data": {
            "text/plain": [
              "array([[1, 2],\n",
              "       [3, 4]])"
            ]
          },
          "metadata": {
            "tags": []
          },
          "execution_count": 37
        }
      ]
    },
    {
      "cell_type": "code",
      "metadata": {
        "id": "S6H8V4iTTHsS",
        "outputId": "2501f6e3-6522-4e07-beae-5771974668ee",
        "colab": {
          "base_uri": "https://localhost:8080/"
        }
      },
      "source": [
        "array2=array1.T\n",
        "array2"
      ],
      "execution_count": 38,
      "outputs": [
        {
          "output_type": "execute_result",
          "data": {
            "text/plain": [
              "array([[1, 3],\n",
              "       [2, 4]])"
            ]
          },
          "metadata": {
            "tags": []
          },
          "execution_count": 38
        }
      ]
    },
    {
      "cell_type": "code",
      "metadata": {
        "id": "MHAbUp9JTHsS",
        "outputId": "243094e8-ac7f-4a86-efa5-82a4c715bbac",
        "colab": {
          "base_uri": "https://localhost:8080/"
        }
      },
      "source": [
        "#Transposicion en 3D\n",
        "arr=np.arange(27).reshape(3,3,3)\n",
        "arr"
      ],
      "execution_count": 39,
      "outputs": [
        {
          "output_type": "execute_result",
          "data": {
            "text/plain": [
              "array([[[ 0,  1,  2],\n",
              "        [ 3,  4,  5],\n",
              "        [ 6,  7,  8]],\n",
              "\n",
              "       [[ 9, 10, 11],\n",
              "        [12, 13, 14],\n",
              "        [15, 16, 17]],\n",
              "\n",
              "       [[18, 19, 20],\n",
              "        [21, 22, 23],\n",
              "        [24, 25, 26]]])"
            ]
          },
          "metadata": {
            "tags": []
          },
          "execution_count": 39
        }
      ]
    },
    {
      "cell_type": "code",
      "metadata": {
        "id": "K4ZmCmjbTHsS",
        "outputId": "3691205b-9789-4d99-c718-604527f42da6",
        "colab": {
          "base_uri": "https://localhost:8080/"
        }
      },
      "source": [
        "arr.T\n",
        "#0->2\n",
        "#2->0"
      ],
      "execution_count": 40,
      "outputs": [
        {
          "output_type": "execute_result",
          "data": {
            "text/plain": [
              "array([[[ 0,  9, 18],\n",
              "        [ 3, 12, 21],\n",
              "        [ 6, 15, 24]],\n",
              "\n",
              "       [[ 1, 10, 19],\n",
              "        [ 4, 13, 22],\n",
              "        [ 7, 16, 25]],\n",
              "\n",
              "       [[ 2, 11, 20],\n",
              "        [ 5, 14, 23],\n",
              "        [ 8, 17, 26]]])"
            ]
          },
          "metadata": {
            "tags": []
          },
          "execution_count": 40
        }
      ]
    },
    {
      "cell_type": "code",
      "metadata": {
        "id": "W_D4tz0OTHsS",
        "outputId": "831e1b5f-b505-4478-9677-222d4a72bc55",
        "colab": {
          "base_uri": "https://localhost:8080/"
        }
      },
      "source": [
        "arr.transpose((0,2,1))\n",
        "#0->0\n",
        "#2->1\n",
        "#1->2"
      ],
      "execution_count": 41,
      "outputs": [
        {
          "output_type": "execute_result",
          "data": {
            "text/plain": [
              "array([[[ 0,  3,  6],\n",
              "        [ 1,  4,  7],\n",
              "        [ 2,  5,  8]],\n",
              "\n",
              "       [[ 9, 12, 15],\n",
              "        [10, 13, 16],\n",
              "        [11, 14, 17]],\n",
              "\n",
              "       [[18, 21, 24],\n",
              "        [19, 22, 25],\n",
              "        [20, 23, 26]]])"
            ]
          },
          "metadata": {
            "tags": []
          },
          "execution_count": 41
        }
      ]
    },
    {
      "cell_type": "code",
      "metadata": {
        "id": "4g50ncRaTHsS",
        "outputId": "aadbcd2a-3450-44fd-8199-4a756ea42e57",
        "colab": {
          "base_uri": "https://localhost:8080/"
        }
      },
      "source": [
        "#Dot product (producto interno)\n",
        "array1=np.array([[1,2],[3,4]])\n",
        "np.dot(array1,array1)"
      ],
      "execution_count": 42,
      "outputs": [
        {
          "output_type": "execute_result",
          "data": {
            "text/plain": [
              "array([[ 7, 10],\n",
              "       [15, 22]])"
            ]
          },
          "metadata": {
            "tags": []
          },
          "execution_count": 42
        }
      ]
    },
    {
      "cell_type": "code",
      "metadata": {
        "id": "k5FkyP5TTHsS",
        "outputId": "5f919c06-48fd-4f2d-f031-5666b0bf3fb4",
        "colab": {
          "base_uri": "https://localhost:8080/"
        }
      },
      "source": [
        "#Cross product (producto cruz)\n",
        "array1=np.array([1,0,0])\n",
        "array2=np.array([0,1,0])\n",
        "np.cross(array1,array2)"
      ],
      "execution_count": 43,
      "outputs": [
        {
          "output_type": "execute_result",
          "data": {
            "text/plain": [
              "array([0, 0, 1])"
            ]
          },
          "metadata": {
            "tags": []
          },
          "execution_count": 43
        }
      ]
    },
    {
      "cell_type": "markdown",
      "metadata": {
        "id": "w0rnx5C0THsS"
      },
      "source": [
        "### Selecciones"
      ]
    },
    {
      "cell_type": "code",
      "metadata": {
        "id": "hnCPIe3hTHsS",
        "outputId": "8f918c0c-3590-4e47-cb51-6609b8c6863c",
        "colab": {
          "base_uri": "https://localhost:8080/"
        }
      },
      "source": [
        "#Seleccionar parte de una tabla\n",
        "arr = np.arange(0,11)\n",
        "arr"
      ],
      "execution_count": 44,
      "outputs": [
        {
          "output_type": "execute_result",
          "data": {
            "text/plain": [
              "array([ 0,  1,  2,  3,  4,  5,  6,  7,  8,  9, 10])"
            ]
          },
          "metadata": {
            "tags": []
          },
          "execution_count": 44
        }
      ]
    },
    {
      "cell_type": "code",
      "metadata": {
        "id": "gcq7BxjFTHsS",
        "outputId": "9a8ed73e-cd95-43d8-8d15-fd4bd1130c75",
        "colab": {
          "base_uri": "https://localhost:8080/"
        }
      },
      "source": [
        "#Obtener un valor\n",
        "arr[5]"
      ],
      "execution_count": 45,
      "outputs": [
        {
          "output_type": "execute_result",
          "data": {
            "text/plain": [
              "5"
            ]
          },
          "metadata": {
            "tags": []
          },
          "execution_count": 45
        }
      ]
    },
    {
      "cell_type": "code",
      "metadata": {
        "id": "a8ESnAxSTHsS",
        "outputId": "ebe2b92b-8597-4fde-c123-36fe3890f522",
        "colab": {
          "base_uri": "https://localhost:8080/"
        }
      },
      "source": [
        "#Obtener valores en un rango\n",
        "arr[1:5]"
      ],
      "execution_count": 46,
      "outputs": [
        {
          "output_type": "execute_result",
          "data": {
            "text/plain": [
              "array([1, 2, 3, 4])"
            ]
          },
          "metadata": {
            "tags": []
          },
          "execution_count": 46
        }
      ]
    },
    {
      "cell_type": "code",
      "metadata": {
        "id": "r7xG0aoRTHsS",
        "outputId": "7642f2e7-3409-43ae-9994-cf47058b5482",
        "colab": {
          "base_uri": "https://localhost:8080/"
        }
      },
      "source": [
        "#Dar valores en un rango\n",
        "arr[0:3]=100\n",
        "arr"
      ],
      "execution_count": 47,
      "outputs": [
        {
          "output_type": "execute_result",
          "data": {
            "text/plain": [
              "array([100, 100, 100,   3,   4,   5,   6,   7,   8,   9,  10])"
            ]
          },
          "metadata": {
            "tags": []
          },
          "execution_count": 47
        }
      ]
    },
    {
      "cell_type": "code",
      "metadata": {
        "id": "ghgmpCHKTHsS",
        "outputId": "6d8c31d3-5fc3-4893-9837-30ef848fc648",
        "colab": {
          "base_uri": "https://localhost:8080/"
        }
      },
      "source": [
        "#Tomar una parte del array\n",
        "x=arr[5:7]\n",
        "x"
      ],
      "execution_count": 48,
      "outputs": [
        {
          "output_type": "execute_result",
          "data": {
            "text/plain": [
              "array([5, 6])"
            ]
          },
          "metadata": {
            "tags": []
          },
          "execution_count": 48
        }
      ]
    },
    {
      "cell_type": "code",
      "metadata": {
        "id": "DY8AX_trTHsT",
        "outputId": "ebc1a7a6-1849-4a1c-e2b3-43936ba799c0",
        "colab": {
          "base_uri": "https://localhost:8080/"
        }
      },
      "source": [
        "#Cuando se modifica una parte\n",
        "x[:]=2000\n",
        "x"
      ],
      "execution_count": 49,
      "outputs": [
        {
          "output_type": "execute_result",
          "data": {
            "text/plain": [
              "array([2000, 2000])"
            ]
          },
          "metadata": {
            "tags": []
          },
          "execution_count": 49
        }
      ]
    },
    {
      "cell_type": "code",
      "metadata": {
        "id": "aZWCP_UCTHsT",
        "outputId": "52c7968e-e96a-45ee-acfd-b0f8209c5f60",
        "colab": {
          "base_uri": "https://localhost:8080/"
        }
      },
      "source": [
        "#Tambien se modifica el array \n",
        "#Los valores no se copian, son parte del array\n",
        "arr"
      ],
      "execution_count": 50,
      "outputs": [
        {
          "output_type": "execute_result",
          "data": {
            "text/plain": [
              "array([ 100,  100,  100,    3,    4, 2000, 2000,    7,    8,    9,   10])"
            ]
          },
          "metadata": {
            "tags": []
          },
          "execution_count": 50
        }
      ]
    },
    {
      "cell_type": "code",
      "metadata": {
        "id": "-Y2_bSGDTHsT",
        "outputId": "2d2d59f8-0781-40eb-f77d-9ff79764c3b7",
        "colab": {
          "base_uri": "https://localhost:8080/"
        }
      },
      "source": [
        "#Copiar un array\n",
        "arr = np.arange(0,11)\n",
        "arr2=arr.copy()\n",
        "arr,arr2"
      ],
      "execution_count": 51,
      "outputs": [
        {
          "output_type": "execute_result",
          "data": {
            "text/plain": [
              "(array([ 0,  1,  2,  3,  4,  5,  6,  7,  8,  9, 10]),\n",
              " array([ 0,  1,  2,  3,  4,  5,  6,  7,  8,  9, 10]))"
            ]
          },
          "metadata": {
            "tags": []
          },
          "execution_count": 51
        }
      ]
    },
    {
      "cell_type": "code",
      "metadata": {
        "id": "8bjBI9c3THsT",
        "outputId": "0c8b9eba-17a8-4d87-a6da-c50eee560ce7",
        "colab": {
          "base_uri": "https://localhost:8080/"
        }
      },
      "source": [
        "arr[:]=1\n",
        "arr,arr2"
      ],
      "execution_count": 52,
      "outputs": [
        {
          "output_type": "execute_result",
          "data": {
            "text/plain": [
              "(array([1, 1, 1, 1, 1, 1, 1, 1, 1, 1, 1]),\n",
              " array([ 0,  1,  2,  3,  4,  5,  6,  7,  8,  9, 10]))"
            ]
          },
          "metadata": {
            "tags": []
          },
          "execution_count": 52
        }
      ]
    },
    {
      "cell_type": "code",
      "metadata": {
        "id": "qxxITmfiTHsT",
        "outputId": "b8224fb1-3316-4660-c1a6-0b715001497a",
        "colab": {
          "base_uri": "https://localhost:8080/"
        }
      },
      "source": [
        "#En arrays 2D\n",
        "arr_2D=np.array([[1,2,3],[4,5,6],[7,8,9]])\n",
        "arr_2D"
      ],
      "execution_count": 53,
      "outputs": [
        {
          "output_type": "execute_result",
          "data": {
            "text/plain": [
              "array([[1, 2, 3],\n",
              "       [4, 5, 6],\n",
              "       [7, 8, 9]])"
            ]
          },
          "metadata": {
            "tags": []
          },
          "execution_count": 53
        }
      ]
    },
    {
      "cell_type": "code",
      "metadata": {
        "id": "1OjrFkFwTHsT"
      },
      "source": [
        ""
      ],
      "execution_count": 53,
      "outputs": []
    },
    {
      "cell_type": "code",
      "metadata": {
        "id": "5uQSdaTVTHsT",
        "outputId": "009ea357-8376-4f77-9b9d-6a28461f6bd2",
        "colab": {
          "base_uri": "https://localhost:8080/"
        }
      },
      "source": [
        "#Seleccionar fila\n",
        "arr_2D[0]"
      ],
      "execution_count": 54,
      "outputs": [
        {
          "output_type": "execute_result",
          "data": {
            "text/plain": [
              "array([1, 2, 3])"
            ]
          },
          "metadata": {
            "tags": []
          },
          "execution_count": 54
        }
      ]
    },
    {
      "cell_type": "code",
      "metadata": {
        "id": "2WyTt-RmTHsT",
        "outputId": "3b66ade2-3c52-4f0b-96c9-56fa50699de0",
        "colab": {
          "base_uri": "https://localhost:8080/"
        }
      },
      "source": [
        "#Seleccionar fila\n",
        "arr_2D[0,:]"
      ],
      "execution_count": 55,
      "outputs": [
        {
          "output_type": "execute_result",
          "data": {
            "text/plain": [
              "array([1, 2, 3])"
            ]
          },
          "metadata": {
            "tags": []
          },
          "execution_count": 55
        }
      ]
    },
    {
      "cell_type": "code",
      "metadata": {
        "id": "QNBR_J3RTHsT",
        "outputId": "5b4baf2e-6469-4613-a25d-53b21f5e903c",
        "colab": {
          "base_uri": "https://localhost:8080/"
        }
      },
      "source": [
        "#Seleccionar columna\n",
        "arr_2D[:,0]"
      ],
      "execution_count": 56,
      "outputs": [
        {
          "output_type": "execute_result",
          "data": {
            "text/plain": [
              "array([1, 4, 7])"
            ]
          },
          "metadata": {
            "tags": []
          },
          "execution_count": 56
        }
      ]
    },
    {
      "cell_type": "code",
      "metadata": {
        "id": "Z2upn6WeTHsT",
        "outputId": "c5a4a38f-53ee-42ae-fa94-5b97f1ee11a6",
        "colab": {
          "base_uri": "https://localhost:8080/"
        }
      },
      "source": [
        "#Seleccionar ultima columna\n",
        "arr_2D[:,-1]"
      ],
      "execution_count": 57,
      "outputs": [
        {
          "output_type": "execute_result",
          "data": {
            "text/plain": [
              "array([3, 6, 9])"
            ]
          },
          "metadata": {
            "tags": []
          },
          "execution_count": 57
        }
      ]
    },
    {
      "cell_type": "code",
      "metadata": {
        "id": "X_T-eL3UTHsT",
        "outputId": "dd3d6257-c0d5-402f-aab9-7310c801f0fb",
        "colab": {
          "base_uri": "https://localhost:8080/"
        }
      },
      "source": [
        "#Seleccionarun solo valor\n",
        "arr_2D[0,-1]"
      ],
      "execution_count": 58,
      "outputs": [
        {
          "output_type": "execute_result",
          "data": {
            "text/plain": [
              "3"
            ]
          },
          "metadata": {
            "tags": []
          },
          "execution_count": 58
        }
      ]
    },
    {
      "cell_type": "code",
      "metadata": {
        "id": "oarIxax7THsT",
        "outputId": "24da3fb0-db00-449a-e3e2-92383af96fce",
        "colab": {
          "base_uri": "https://localhost:8080/"
        }
      },
      "source": [
        "#Seleccionar varias filas\n",
        "arr_2D[[0,-1]]"
      ],
      "execution_count": 59,
      "outputs": [
        {
          "output_type": "execute_result",
          "data": {
            "text/plain": [
              "array([[1, 2, 3],\n",
              "       [7, 8, 9]])"
            ]
          },
          "metadata": {
            "tags": []
          },
          "execution_count": 59
        }
      ]
    },
    {
      "cell_type": "code",
      "metadata": {
        "id": "iWnK7LyjTHsU",
        "outputId": "c1cc9477-3125-43ab-8419-3d3f5ee7ecc0",
        "colab": {
          "base_uri": "https://localhost:8080/"
        }
      },
      "source": [
        "#Seleccionar varias filas y columnas\n",
        "arr_2D[[0,-1]].T[[0,-1]].T"
      ],
      "execution_count": 60,
      "outputs": [
        {
          "output_type": "execute_result",
          "data": {
            "text/plain": [
              "array([[1, 3],\n",
              "       [7, 9]])"
            ]
          },
          "metadata": {
            "tags": []
          },
          "execution_count": 60
        }
      ]
    },
    {
      "cell_type": "code",
      "metadata": {
        "id": "pezY3nZfTHsU",
        "outputId": "f35205f6-1704-43ee-b1dc-0c82f8ad2e60",
        "colab": {
          "base_uri": "https://localhost:8080/"
        }
      },
      "source": [
        "#Seleccionar rangos\n",
        "arr_2D[:2,-2:]"
      ],
      "execution_count": 61,
      "outputs": [
        {
          "output_type": "execute_result",
          "data": {
            "text/plain": [
              "array([[2, 3],\n",
              "       [5, 6]])"
            ]
          },
          "metadata": {
            "tags": []
          },
          "execution_count": 61
        }
      ]
    },
    {
      "cell_type": "code",
      "metadata": {
        "id": "U0gEEXLuTHsU",
        "outputId": "31742824-5277-40d7-b856-e4c9b2540991",
        "colab": {
          "base_uri": "https://localhost:8080/"
        }
      },
      "source": [
        "#Seleccionar valores particulares\n",
        "arr_2D[(0,1,2),(0,1,2)]"
      ],
      "execution_count": 62,
      "outputs": [
        {
          "output_type": "execute_result",
          "data": {
            "text/plain": [
              "array([1, 5, 9])"
            ]
          },
          "metadata": {
            "tags": []
          },
          "execution_count": 62
        }
      ]
    },
    {
      "cell_type": "markdown",
      "metadata": {
        "id": "njplcXPZTHsU"
      },
      "source": [
        "### Guardar matrices"
      ]
    },
    {
      "cell_type": "code",
      "metadata": {
        "id": "KIndtY4jTHsU"
      },
      "source": [
        "arr = np.arange(5)"
      ],
      "execution_count": 63,
      "outputs": []
    },
    {
      "cell_type": "code",
      "metadata": {
        "id": "c2P_xBJdTHsU",
        "outputId": "c2defa0b-cfbb-42f3-c56b-7c6f3ce42793",
        "colab": {
          "base_uri": "https://localhost:8080/"
        }
      },
      "source": [
        "np.save('saved_array',arr)\n",
        "np.load('saved_array.npy')"
      ],
      "execution_count": 64,
      "outputs": [
        {
          "output_type": "execute_result",
          "data": {
            "text/plain": [
              "array([0, 1, 2, 3, 4])"
            ]
          },
          "metadata": {
            "tags": []
          },
          "execution_count": 64
        }
      ]
    },
    {
      "cell_type": "code",
      "metadata": {
        "id": "5W319y4TTHsU",
        "outputId": "cd44e21e-fae7-4f7f-b393-d998cbeab0ad",
        "colab": {
          "base_uri": "https://localhost:8080/"
        }
      },
      "source": [
        "np.savez('dos_arrays.npz',x=arr,y=arr)\n",
        "np.load('dos_arrays.npz')"
      ],
      "execution_count": 65,
      "outputs": [
        {
          "output_type": "execute_result",
          "data": {
            "text/plain": [
              "<numpy.lib.npyio.NpzFile at 0x7fb8d8788898>"
            ]
          },
          "metadata": {
            "tags": []
          },
          "execution_count": 65
        }
      ]
    },
    {
      "cell_type": "code",
      "metadata": {
        "id": "xYlDK_jkTHsU",
        "outputId": "970b918e-5778-4cfc-f886-7987d2595fb2",
        "colab": {
          "base_uri": "https://localhost:8080/"
        }
      },
      "source": [
        "arrays=np.load('dos_arrays.npz')\n",
        "arrays['x']"
      ],
      "execution_count": 66,
      "outputs": [
        {
          "output_type": "execute_result",
          "data": {
            "text/plain": [
              "array([0, 1, 2, 3, 4])"
            ]
          },
          "metadata": {
            "tags": []
          },
          "execution_count": 66
        }
      ]
    },
    {
      "cell_type": "code",
      "metadata": {
        "id": "TkXl9pqqTikQ"
      },
      "source": [
        ""
      ],
      "execution_count": null,
      "outputs": []
    }
  ]
}